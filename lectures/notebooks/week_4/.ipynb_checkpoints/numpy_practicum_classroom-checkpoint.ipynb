{
 "cells": [
  {
   "cell_type": "markdown",
   "metadata": {},
   "source": [
    "# Numpy, lists and tuples practicum 2/3/2022"
   ]
  },
  {
   "cell_type": "markdown",
   "metadata": {},
   "source": [
    "### Start by importing numpy:"
   ]
  },
  {
   "cell_type": "code",
   "execution_count": 1,
   "metadata": {},
   "outputs": [],
   "source": [
    "import numpy as np"
   ]
  },
  {
   "cell_type": "markdown",
   "metadata": {},
   "source": [
    "#### First create an array x from 100 to 1,000 with a step of 2:"
   ]
  },
  {
   "cell_type": "code",
   "execution_count": 2,
   "metadata": {},
   "outputs": [],
   "source": [
    "x = np.arange(100,1000,2)"
   ]
  },
  {
   "cell_type": "markdown",
   "metadata": {},
   "source": [
    "### then create an array y from 1,000 to 2,800 with a step of 4:"
   ]
  },
  {
   "cell_type": "code",
   "execution_count": 3,
   "metadata": {},
   "outputs": [
    {
     "ename": "SyntaxError",
     "evalue": "invalid syntax (<ipython-input-3-1ca26ce6bdce>, line 1)",
     "output_type": "error",
     "traceback": [
      "\u001b[0;36m  File \u001b[0;32m\"<ipython-input-3-1ca26ce6bdce>\"\u001b[0;36m, line \u001b[0;32m1\u001b[0m\n\u001b[0;31m    y = = np.arange(1000,2800,4)\u001b[0m\n\u001b[0m        ^\u001b[0m\n\u001b[0;31mSyntaxError\u001b[0m\u001b[0;31m:\u001b[0m invalid syntax\n"
     ]
    }
   ],
   "source": [
    "y = = np.arange(1000,2800,4)"
   ]
  },
  {
   "cell_type": "markdown",
   "metadata": {},
   "source": [
    "### check the shape of x and y:"
   ]
  },
  {
   "cell_type": "code",
   "execution_count": 4,
   "metadata": {},
   "outputs": [
    {
     "name": "stdout",
     "output_type": "stream",
     "text": [
      "(450,)\n",
      "(450,)\n"
     ]
    }
   ],
   "source": [
    "print( x.shape )\n",
    "print( y.shape )"
   ]
  },
  {
   "cell_type": "markdown",
   "metadata": {},
   "source": [
    "### get the length of x:"
   ]
  },
  {
   "cell_type": "code",
   "execution_count": 5,
   "metadata": {},
   "outputs": [
    {
     "name": "stdout",
     "output_type": "stream",
     "text": [
      "450\n"
     ]
    }
   ],
   "source": []
  },
  {
   "cell_type": "markdown",
   "metadata": {},
   "source": [
    "### Create array z equal to the difference of y minus x "
   ]
  },
  {
   "cell_type": "code",
   "execution_count": 6,
   "metadata": {},
   "outputs": [],
   "source": []
  },
  {
   "cell_type": "markdown",
   "metadata": {},
   "source": [
    "### print it:"
   ]
  },
  {
   "cell_type": "code",
   "execution_count": null,
   "metadata": {},
   "outputs": [],
   "source": []
  },
  {
   "cell_type": "markdown",
   "metadata": {},
   "source": [
    "### multiply x by 2, subtract 100 from y and add all this togeter ( (x*2) + (y-100)); assign to variable test1 "
   ]
  },
  {
   "cell_type": "code",
   "execution_count": 8,
   "metadata": {},
   "outputs": [],
   "source": [
    "test1 = "
   ]
  },
  {
   "cell_type": "markdown",
   "metadata": {},
   "source": [
    "### calculate and print the min of test1, its max and its mean:"
   ]
  },
  {
   "cell_type": "code",
   "execution_count": null,
   "metadata": {},
   "outputs": [],
   "source": []
  },
  {
   "cell_type": "markdown",
   "metadata": {},
   "source": [
    "### print the mean of the base 10 logarithm of x"
   ]
  },
  {
   "cell_type": "code",
   "execution_count": 1,
   "metadata": {},
   "outputs": [
    {
     "name": "stdout",
     "output_type": "stream",
     "text": [
      "\n"
     ]
    }
   ],
   "source": [
    "print(    )"
   ]
  },
  {
   "cell_type": "markdown",
   "metadata": {},
   "source": [
    "### 1. Create a numpy array x that goes from 1 up to and including 100 (last element must be 100.0) with a step of 0.1. \n",
    "- Verify its type using the type command and its size using the .shape command.  \n",
    "- Print x. \n",
    "- Print its maximum, minimum and mean. \n",
    "- Add 5 to x and print it. \n",
    "- Print an array whose values are 10 times larger than x."
   ]
  },
  {
   "cell_type": "code",
   "execution_count": 13,
   "metadata": {},
   "outputs": [],
   "source": [
    "x = \n"
   ]
  },
  {
   "cell_type": "code",
   "execution_count": null,
   "metadata": {},
   "outputs": [],
   "source": []
  },
  {
   "cell_type": "code",
   "execution_count": null,
   "metadata": {},
   "outputs": [],
   "source": []
  },
  {
   "cell_type": "code",
   "execution_count": null,
   "metadata": {},
   "outputs": [],
   "source": []
  },
  {
   "cell_type": "code",
   "execution_count": null,
   "metadata": {},
   "outputs": [],
   "source": []
  },
  {
   "cell_type": "code",
   "execution_count": null,
   "metadata": {},
   "outputs": [],
   "source": []
  },
  {
   "cell_type": "markdown",
   "metadata": {},
   "source": [
    "### 2. Create an array y that is the base 10 logarithm of x. \n",
    "- Print y. \n",
    "- Print the 10th to 24th elements of x and y. \n",
    "- Create an array z that is the same as y. \n",
    "- Change the 30th to 140th elements of z to be the 1/10 of their current value and the 500th to 600th elements of z to be 10 times larger than their current value. \n",
    "- Print z from the 600th element to the 100th element going backwards with a step of 50 (so the 600th, 550th, 500th etc element).   "
   ]
  },
  {
   "cell_type": "code",
   "execution_count": null,
   "metadata": {},
   "outputs": [],
   "source": []
  },
  {
   "cell_type": "code",
   "execution_count": null,
   "metadata": {},
   "outputs": [],
   "source": []
  },
  {
   "cell_type": "code",
   "execution_count": null,
   "metadata": {},
   "outputs": [],
   "source": []
  },
  {
   "cell_type": "code",
   "execution_count": null,
   "metadata": {},
   "outputs": [],
   "source": []
  },
  {
   "cell_type": "code",
   "execution_count": null,
   "metadata": {},
   "outputs": [],
   "source": []
  },
  {
   "cell_type": "code",
   "execution_count": null,
   "metadata": {},
   "outputs": [],
   "source": []
  },
  {
   "cell_type": "code",
   "execution_count": null,
   "metadata": {},
   "outputs": [],
   "source": []
  },
  {
   "cell_type": "code",
   "execution_count": null,
   "metadata": {},
   "outputs": [],
   "source": []
  },
  {
   "cell_type": "code",
   "execution_count": null,
   "metadata": {},
   "outputs": [],
   "source": []
  },
  {
   "cell_type": "code",
   "execution_count": null,
   "metadata": {},
   "outputs": [],
   "source": []
  },
  {
   "cell_type": "code",
   "execution_count": null,
   "metadata": {},
   "outputs": [],
   "source": []
  },
  {
   "cell_type": "code",
   "execution_count": null,
   "metadata": {},
   "outputs": [],
   "source": []
  },
  {
   "cell_type": "code",
   "execution_count": null,
   "metadata": {},
   "outputs": [],
   "source": []
  },
  {
   "cell_type": "markdown",
   "metadata": {},
   "source": [
    "### 3. Create array base1 that goes from 100 to 600 with a step of 2. \n",
    "- Create array base2 that goes from 75.5 to 0.5 with a step of -0.3. \n",
    "\n",
    "- Assuming that base1 is the one side of a (orthogonal parallelogram) field and base2 the other side, calculate the surface area of all fields (field_surface). \n",
    "- How many fields are there in your sample? \n",
    "- How many unique surface areas are there in your sample?"
   ]
  },
  {
   "cell_type": "code",
   "execution_count": 17,
   "metadata": {},
   "outputs": [],
   "source": []
  },
  {
   "cell_type": "code",
   "execution_count": null,
   "metadata": {},
   "outputs": [],
   "source": []
  },
  {
   "cell_type": "code",
   "execution_count": null,
   "metadata": {},
   "outputs": [],
   "source": []
  },
  {
   "cell_type": "code",
   "execution_count": null,
   "metadata": {},
   "outputs": [],
   "source": []
  },
  {
   "cell_type": "code",
   "execution_count": null,
   "metadata": {},
   "outputs": [],
   "source": []
  },
  {
   "cell_type": "code",
   "execution_count": null,
   "metadata": {},
   "outputs": [],
   "source": []
  },
  {
   "cell_type": "markdown",
   "metadata": {},
   "source": [
    "### One of the great features of numpy is that it also allows you to read data in an array in a single command. You do that with np.loadtxt( \"name_of_file\" ) [see also: https://numpy.org/doc/stable/reference/generated/numpy.loadtxt.html ] or np.genfromtxt(\"name_of_file\") [see also: https://numpy.org/doc/stable/reference/generated/numpy.genfromtxt.html ]. \n",
    "\n",
    "### E.g., get file *my_first_data.dat* from the Webcouses/demos/ . Open it with a text editor to see what it looks like. \n",
    "- Read it in an array *all_input_data* with loadtxt or genfromtxt. \n",
    "- Check what your array looks like (print it). \n",
    "- Print all times each car traveled. \n",
    "- Print all distances the cars traveled. \n",
    "- Calculate the distance each car traveled **in a single line** and asign it to array *distances_traveled*. \n",
    "- Print *distances_traveled*"
   ]
  },
  {
   "cell_type": "code",
   "execution_count": 23,
   "metadata": {},
   "outputs": [],
   "source": []
  },
  {
   "cell_type": "code",
   "execution_count": 3,
   "metadata": {},
   "outputs": [],
   "source": [
    "# Car_number  Time [hr]  Speed [mph]"
   ]
  },
  {
   "cell_type": "code",
   "execution_count": null,
   "metadata": {},
   "outputs": [],
   "source": []
  },
  {
   "cell_type": "code",
   "execution_count": null,
   "metadata": {},
   "outputs": [],
   "source": []
  },
  {
   "cell_type": "code",
   "execution_count": 27,
   "metadata": {},
   "outputs": [],
   "source": []
  },
  {
   "cell_type": "code",
   "execution_count": null,
   "metadata": {},
   "outputs": [],
   "source": []
  },
  {
   "cell_type": "markdown",
   "metadata": {},
   "source": [
    "### Now let's try the genfromtxt with data: *test_genfromtxt.dat*. \n",
    "- Read data into variable student_data. \n",
    "- Print the IDs of the students. \n",
    "- Print the average quiz  grade for student 202204. \n",
    "- Print the average exam quiz and the IDs of all students that passed the class with a C- or better ( average total of more than 7.0)."
   ]
  },
  {
   "cell_type": "code",
   "execution_count": null,
   "metadata": {},
   "outputs": [],
   "source": []
  },
  {
   "cell_type": "code",
   "execution_count": null,
   "metadata": {},
   "outputs": [],
   "source": []
  },
  {
   "cell_type": "code",
   "execution_count": null,
   "metadata": {},
   "outputs": [],
   "source": [
    "#Student ID  Average-Grade-Quiz  Average-Grade-Exam    Average-Total"
   ]
  },
  {
   "cell_type": "code",
   "execution_count": null,
   "metadata": {},
   "outputs": [],
   "source": []
  },
  {
   "cell_type": "code",
   "execution_count": null,
   "metadata": {},
   "outputs": [],
   "source": []
  },
  {
   "cell_type": "code",
   "execution_count": null,
   "metadata": {},
   "outputs": [],
   "source": []
  },
  {
   "cell_type": "code",
   "execution_count": null,
   "metadata": {},
   "outputs": [],
   "source": []
  },
  {
   "cell_type": "markdown",
   "metadata": {},
   "source": [
    "### 4. You just opened a new savings account that earns N percent interest per year. The interest that you earn is paid at the end of the year, and is added to the balance of the savings account. Write a *function end_of_year_interest* that takes as input the interest N and a single list *deposits_list* that containts the amount of money deposited into the account from the user at the start of years 1, 2 and 3 (assume this is the only deposit to the account). The function should then calculate the amount in the savings account at the end of years 1, 2 and 3 and print it out. Call the function for an interest rate of 2% and deposits of 100, 300 and 500. \n",
    "\n",
    "- Discuss: what should the input and output of your function be?\n",
    "- What does a good docstring need to include?\n",
    "- How do we code this up?\n",
    "- Code!\n"
   ]
  },
  {
   "cell_type": "code",
   "execution_count": null,
   "metadata": {},
   "outputs": [],
   "source": []
  },
  {
   "cell_type": "code",
   "execution_count": 36,
   "metadata": {},
   "outputs": [],
   "source": []
  },
  {
   "cell_type": "code",
   "execution_count": null,
   "metadata": {},
   "outputs": [],
   "source": []
  },
  {
   "cell_type": "code",
   "execution_count": null,
   "metadata": {},
   "outputs": [],
   "source": []
  },
  {
   "cell_type": "markdown",
   "metadata": {},
   "source": [
    "### 5. Create a program that calculates how fast an object moves [ m/s ] when falling to the ground from a height h. Assume that the body free falls with initial speed 0 m/s, so that u$_{final}$ = $\\sqrt(2 * g * h)$, where g = 9.8 $m/s^2$ and h is in m. \n",
    "### Assume that the recorded height are a numpy array of heights from 3 m to 100m with a step of 2.5 (average height of a floor). \n",
    "\n",
    "- Create a variable u_final that calculates the final speed of the falling object from **all** heights in **one** line. \n",
    "- Print it"
   ]
  },
  {
   "cell_type": "code",
   "execution_count": 40,
   "metadata": {},
   "outputs": [],
   "source": []
  },
  {
   "cell_type": "code",
   "execution_count": null,
   "metadata": {},
   "outputs": [],
   "source": []
  },
  {
   "cell_type": "code",
   "execution_count": null,
   "metadata": {},
   "outputs": [],
   "source": []
  },
  {
   "cell_type": "code",
   "execution_count": null,
   "metadata": {},
   "outputs": [],
   "source": []
  },
  {
   "cell_type": "markdown",
   "metadata": {},
   "source": [
    "### 6. Create a list *test_list_1* that contains the numbers 1, 2, 5, 7, 22, 34, 42. \n",
    "- Print it. \n",
    "- Change 22 to -10 (don't just copy-paste and change it in the series, access the appropriate element of test_list_1 and change it). \n",
    "- Print the mutated list. \n",
    "- Add elements 96 and 102 to the end of the list. \n",
    "- Add 0 to the start. "
   ]
  },
  {
   "cell_type": "code",
   "execution_count": 42,
   "metadata": {},
   "outputs": [],
   "source": []
  },
  {
   "cell_type": "code",
   "execution_count": null,
   "metadata": {},
   "outputs": [],
   "source": []
  },
  {
   "cell_type": "code",
   "execution_count": null,
   "metadata": {},
   "outputs": [],
   "source": []
  },
  {
   "cell_type": "code",
   "execution_count": null,
   "metadata": {},
   "outputs": [],
   "source": []
  },
  {
   "cell_type": "code",
   "execution_count": null,
   "metadata": {},
   "outputs": [],
   "source": []
  },
  {
   "cell_type": "code",
   "execution_count": null,
   "metadata": {},
   "outputs": [],
   "source": []
  },
  {
   "cell_type": "code",
   "execution_count": null,
   "metadata": {},
   "outputs": [],
   "source": []
  },
  {
   "cell_type": "markdown",
   "metadata": {},
   "source": [
    "### 7. Create a tuple *trip_time* that contains the amount of hours a trip takes. Create a tuple *trip_distance* that contains the distance of a given trip in km. <br> Populate *trip_time* with numbers: 1.5, 3.2, 5.6, 14.3, 26.4 and *trip_distance* with 180, 320, 728, 1573, 3326. Calculate the average speed (remember it is distance/time) of each trip. Can you use plain division of the tuples in a single line to do it? Why/why not? <br> <br> After each calculation store the average speed in a tuple called *trip_average_speed* (\"append\" each calculation to the previous tuple). Is the tuple you have at the end, the same as at the start? Why/why not? <br> You just realized you made a typo, and the 728 should have been 718! Change the tuple accordingly (and properly) and recalculate and print the new *trip_average_speed* tuple. "
   ]
  },
  {
   "cell_type": "code",
   "execution_count": 47,
   "metadata": {},
   "outputs": [],
   "source": []
  },
  {
   "cell_type": "code",
   "execution_count": null,
   "metadata": {},
   "outputs": [],
   "source": []
  },
  {
   "cell_type": "code",
   "execution_count": null,
   "metadata": {},
   "outputs": [],
   "source": []
  },
  {
   "cell_type": "code",
   "execution_count": 50,
   "metadata": {},
   "outputs": [],
   "source": []
  },
  {
   "cell_type": "code",
   "execution_count": 51,
   "metadata": {},
   "outputs": [],
   "source": []
  },
  {
   "cell_type": "code",
   "execution_count": null,
   "metadata": {},
   "outputs": [],
   "source": []
  },
  {
   "cell_type": "code",
   "execution_count": null,
   "metadata": {},
   "outputs": [],
   "source": []
  },
  {
   "cell_type": "code",
   "execution_count": null,
   "metadata": {},
   "outputs": [],
   "source": []
  },
  {
   "cell_type": "code",
   "execution_count": 54,
   "metadata": {},
   "outputs": [],
   "source": [
    "### also, yes, you can kind of do it in a single line but not in a way we have seen yet, e.g.:\n",
    "#from operator import truediv \n",
    "#trip_average_test_one_line = tuple( map( truediv, trip_distance , trip_time ) )  \n",
    "#print( trip_average_test_one_line )"
   ]
  },
  {
   "cell_type": "code",
   "execution_count": 55,
   "metadata": {},
   "outputs": [],
   "source": [
    "# now let's change the element; remember tuples are immutable!\n",
    "#inital was trip_distance = ( 180, 320, 728, 1573, 3326 ) --> need to change trip_distance[ 2 ]\n"
   ]
  },
  {
   "cell_type": "code",
   "execution_count": null,
   "metadata": {},
   "outputs": [],
   "source": []
  },
  {
   "cell_type": "code",
   "execution_count": 58,
   "metadata": {},
   "outputs": [],
   "source": []
  },
  {
   "cell_type": "code",
   "execution_count": null,
   "metadata": {},
   "outputs": [],
   "source": []
  },
  {
   "cell_type": "code",
   "execution_count": null,
   "metadata": {},
   "outputs": [],
   "source": []
  },
  {
   "cell_type": "code",
   "execution_count": null,
   "metadata": {},
   "outputs": [],
   "source": []
  },
  {
   "cell_type": "code",
   "execution_count": null,
   "metadata": {},
   "outputs": [],
   "source": []
  },
  {
   "cell_type": "code",
   "execution_count": null,
   "metadata": {},
   "outputs": [],
   "source": []
  },
  {
   "cell_type": "code",
   "execution_count": null,
   "metadata": {},
   "outputs": [],
   "source": []
  },
  {
   "cell_type": "code",
   "execution_count": null,
   "metadata": {},
   "outputs": [],
   "source": []
  },
  {
   "cell_type": "markdown",
   "metadata": {},
   "source": [
    "### 8. Open a text editor and save it as *all_my_functions.py*. Copy in there the function *acceleration* from HW your HW and from this practicum the functions *end_of_year_interest* and *thunderstruck*. Change the names of the functions by adding a *_fromfile* at the end of each. <br> In a single command import *acceleration_fromfile* and *enf_of_year_interest_fromfile* and *thunderstruck_fromfile*. Call the latter for the case you hear a thunder 10s after you see the lightning. \n",
    "\n",
    "#### Note that if you are using numpy in these functions you will need to start your all_my_functions.py with importing numpy as np."
   ]
  },
  {
   "cell_type": "code",
   "execution_count": null,
   "metadata": {},
   "outputs": [],
   "source": []
  },
  {
   "cell_type": "code",
   "execution_count": null,
   "metadata": {},
   "outputs": [],
   "source": []
  },
  {
   "cell_type": "code",
   "execution_count": null,
   "metadata": {},
   "outputs": [],
   "source": []
  },
  {
   "cell_type": "code",
   "execution_count": null,
   "metadata": {},
   "outputs": [],
   "source": []
  },
  {
   "cell_type": "code",
   "execution_count": null,
   "metadata": {},
   "outputs": [],
   "source": []
  },
  {
   "cell_type": "code",
   "execution_count": null,
   "metadata": {},
   "outputs": [],
   "source": []
  },
  {
   "cell_type": "markdown",
   "metadata": {},
   "source": [
    "### 9. The Body Mass Index is one of the available measures of how healthy a person is. It is defined as the ratio of a person's weight in kg, over the square of their height in m. Make a function BMI that uses the height and weight of a person and returns their BMI. \n",
    "\n",
    "### Make a list heights that contains the heights of people, and a list weights that containts their weights. Populate them with heights: 1.60, 2.10 and 1.80 and weights 60, 120 and 81.\n",
    "\n",
    "### Call the function BMI for all three people and print their BMI."
   ]
  },
  {
   "cell_type": "code",
   "execution_count": null,
   "metadata": {},
   "outputs": [],
   "source": []
  },
  {
   "cell_type": "code",
   "execution_count": null,
   "metadata": {},
   "outputs": [],
   "source": []
  },
  {
   "cell_type": "code",
   "execution_count": null,
   "metadata": {},
   "outputs": [],
   "source": []
  },
  {
   "cell_type": "code",
   "execution_count": null,
   "metadata": {},
   "outputs": [],
   "source": []
  },
  {
   "cell_type": "code",
   "execution_count": null,
   "metadata": {},
   "outputs": [],
   "source": []
  },
  {
   "cell_type": "markdown",
   "metadata": {},
   "source": [
    "###  10. Create a list *student_h* that contains the heights of students in feet and inches. A person being 5' 6\" would be noted as 5.06, a person being 5' 10\" would be noted as 5.10. Populate it with the following values: 5.01, 4.10, 6.02, 5.07, 6.11.  Create a function ft_to_m_cm that takes as input a value from *student_h* and returns each height in a list [m, cm] (round cm up). Call the function for all values of *student_h* and print the results with an informative sentence (e.g., Student 1 has a height of 1 m 10 cm ) <br>  (1 ft ~= 0.3048 m and 1 inch ~= 0.0254 m and 1m has 100cm). \n",
    "\n",
    "- Discuss: what should the function's input be? \n",
    "- What should its output be?\n",
    "- What does the function need to calculate? How will it do that?\n",
    "- Code it up!"
   ]
  },
  {
   "cell_type": "code",
   "execution_count": null,
   "metadata": {},
   "outputs": [],
   "source": [
    "#make student_h list:"
   ]
  },
  {
   "cell_type": "code",
   "execution_count": null,
   "metadata": {},
   "outputs": [],
   "source": [
    "#make your function:\n"
   ]
  },
  {
   "cell_type": "code",
   "execution_count": null,
   "metadata": {},
   "outputs": [],
   "source": [
    "#calculate the heights in m and cm and print with informative statement:"
   ]
  },
  {
   "cell_type": "markdown",
   "metadata": {},
   "source": [
    "### Now change the function (make a copy function ft_to_m2) to accept the height as a list [height_ft, height_inches] and adapt the function accordingly...Call it for a student with a height 6' 11\" and a student with a height of 5' 6\""
   ]
  },
  {
   "cell_type": "code",
   "execution_count": null,
   "metadata": {},
   "outputs": [],
   "source": [
    "#make function that takes as input a LIST with feet, inches"
   ]
  },
  {
   "cell_type": "code",
   "execution_count": null,
   "metadata": {},
   "outputs": [],
   "source": [
    "#call it for student 6'11\":"
   ]
  },
  {
   "cell_type": "code",
   "execution_count": null,
   "metadata": {},
   "outputs": [],
   "source": [
    "#call it for student 5' 6\":"
   ]
  }
 ],
 "metadata": {
  "kernelspec": {
   "display_name": "Python 3",
   "language": "python",
   "name": "python3"
  },
  "language_info": {
   "codemirror_mode": {
    "name": "ipython",
    "version": 3
   },
   "file_extension": ".py",
   "mimetype": "text/x-python",
   "name": "python",
   "nbconvert_exporter": "python",
   "pygments_lexer": "ipython3",
   "version": "3.7.6"
  }
 },
 "nbformat": 4,
 "nbformat_minor": 2
}
