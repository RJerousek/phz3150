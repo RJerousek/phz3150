{
 "cells": [
  {
   "cell_type": "markdown",
   "metadata": {},
   "source": [
    "## Today we will practice things we learned about functions, lists and tuples."
   ]
  },
  {
   "cell_type": "markdown",
   "metadata": {},
   "source": [
    "### Concept reminder:\n",
    "\n",
    "1. Functions:\n",
    "    - are used for calculations you want to do repeatedly. Instead of coding the same thing again and again, you just call the function and you get the result for each case you want.\n",
    "    - Functions need a good docstring!\n",
    "    - The main body of your code and the function can have different names for the same quantity. The name should be consistent in the same body though!\n",
    "    - When your function gives a result you should calculate these numbers some other way to check that they are correct\n",
    "    \n",
    "2. Lists:\n",
    "    - [ ]\n",
    "    - slicing\n",
    "    - mutable\n",
    "    \n",
    "    \n",
    "3. Tuples:\n",
    "    - ( )\n",
    "    - slicing\n",
    "    - immutable\n",
    "    "
   ]
  },
  {
   "cell_type": "code",
   "execution_count": null,
   "metadata": {},
   "outputs": [],
   "source": []
  },
  {
   "cell_type": "code",
   "execution_count": null,
   "metadata": {},
   "outputs": [],
   "source": []
  },
  {
   "cell_type": "code",
   "execution_count": null,
   "metadata": {},
   "outputs": [],
   "source": []
  },
  {
   "cell_type": "markdown",
   "metadata": {},
   "source": [
    "\n",
    "\n",
    "### A. )  Create a function circuit_resistance that uses the measured voltage and current of a circuit and returns its total resistance.  Remember to use a good, appropriate docstring! \n",
    "\n",
    "-- Remember that R = V / I\n",
    "\n",
    "1) Discuss: What should the inputs of your function be? What should the output be?\n",
    "\n",
    "2) Discuss what can go wrong with this function. What info does a good docstring need to have? \n",
    "\n",
    "\n",
    "3) Write your function!\n",
    "\n",
    "\n",
    "4) Print the docstring.\n",
    "\n",
    "5) Assume an initial measurement of V = 10 V and I = 2A. Call circuit_resistance to find the total resistance of the circuit.\n",
    "\n",
    "6) Call circuit_resistance for I = 4A and V  = 10, 20 and 40 V .  \n",
    "\n",
    "7) Call circuit_resistance for V = 100 V and I = 10 and 50 A. \n",
    "\n",
    "\n"
   ]
  },
  {
   "cell_type": "code",
   "execution_count": 2,
   "metadata": {},
   "outputs": [],
   "source": []
  },
  {
   "cell_type": "code",
   "execution_count": null,
   "metadata": {},
   "outputs": [],
   "source": []
  },
  {
   "cell_type": "code",
   "execution_count": null,
   "metadata": {},
   "outputs": [],
   "source": []
  },
  {
   "cell_type": "code",
   "execution_count": null,
   "metadata": {},
   "outputs": [],
   "source": []
  },
  {
   "cell_type": "code",
   "execution_count": null,
   "metadata": {},
   "outputs": [],
   "source": []
  },
  {
   "cell_type": "code",
   "execution_count": null,
   "metadata": {},
   "outputs": [],
   "source": []
  },
  {
   "cell_type": "code",
   "execution_count": null,
   "metadata": {},
   "outputs": [],
   "source": []
  },
  {
   "cell_type": "markdown",
   "metadata": {},
   "source": [
    "### B. )  It's still storm season, so let's create a code that calculates the distance to where lightning strucks. Create function *thunderstruck* that calculates the distance from you of the point where lightning struck. Remember that lightning travels with the speed of light, so you can assume you see it instantaneously (as soon as it happens). Thunder on the other hand travels with the speed of sound, at $u_{sound} = 343$  m/s or $1088$ feet/s.  Remember to write an informative docstring.\n",
    "\n",
    "1) Discuss: what should the input of the function be? What should be its output?\n",
    "\n",
    "2) What information should a good docstring have?\n",
    "\n",
    "3) Code your funtion\n",
    "\n",
    "4) Print the docstring\n",
    "\n",
    "5) You hear the roar of thunder 5s after you see the lightning. How far away was the strike (in feet)?\n",
    "\n",
    "6) You hear the roar of thunder 12s after you saw the lightning. Where did it hit in miles ( 1miles = 5280 feet )?\n"
   ]
  },
  {
   "cell_type": "code",
   "execution_count": 1,
   "metadata": {},
   "outputs": [],
   "source": []
  },
  {
   "cell_type": "code",
   "execution_count": null,
   "metadata": {},
   "outputs": [],
   "source": []
  },
  {
   "cell_type": "code",
   "execution_count": null,
   "metadata": {},
   "outputs": [],
   "source": []
  },
  {
   "cell_type": "code",
   "execution_count": null,
   "metadata": {},
   "outputs": [],
   "source": []
  },
  {
   "cell_type": "code",
   "execution_count": null,
   "metadata": {},
   "outputs": [],
   "source": []
  },
  {
   "cell_type": "markdown",
   "metadata": {},
   "source": [
    "### C. ) Write a function called called FtoC that changes a temperature from F to C. \n",
    "#### Consider the following: \n",
    "\n",
    "1) What is the function that connects F to C? \n",
    "\n",
    "2) What should the input of the function be? What should the output be?\n",
    "\n",
    "3) What information does a good docstring need to have?\n",
    "\n",
    "4) Write your function\n",
    "\n",
    "\n",
    "### Save it in a separate file, not your Jupyter notebook. \n",
    "\n",
    "### In your main homework file, import this function and use it six times to convert -40, 0, 32, 75, 98.6, and 212 Fahrenheit to Celsius, printing each value on a line by itself. "
   ]
  },
  {
   "cell_type": "code",
   "execution_count": null,
   "metadata": {},
   "outputs": [],
   "source": []
  },
  {
   "cell_type": "code",
   "execution_count": null,
   "metadata": {},
   "outputs": [],
   "source": []
  },
  {
   "cell_type": "code",
   "execution_count": null,
   "metadata": {},
   "outputs": [],
   "source": []
  },
  {
   "cell_type": "code",
   "execution_count": null,
   "metadata": {},
   "outputs": [],
   "source": []
  },
  {
   "cell_type": "code",
   "execution_count": null,
   "metadata": {},
   "outputs": [],
   "source": []
  },
  {
   "cell_type": "markdown",
   "metadata": {},
   "source": [
    "### D) Let's practice  working with lists:\n",
    "\n",
    "1) Create a list quantity_1 with numbers starting from 100 to 500 with a step of 100.  \n",
    "\n",
    "2) Create a list quantity_2 with numbers from 10 to 50 with a step of 10. \n",
    "\n",
    "3) Print quantity_1. Print the 2nd up to and including the 4th and element of quantity_2.\n",
    "\n",
    "4) Print the ratio of quantity_1 to quantity_2. Can you do it in one line? Why/why not?\n"
   ]
  },
  {
   "cell_type": "code",
   "execution_count": 11,
   "metadata": {},
   "outputs": [],
   "source": []
  },
  {
   "cell_type": "code",
   "execution_count": null,
   "metadata": {},
   "outputs": [],
   "source": []
  },
  {
   "cell_type": "code",
   "execution_count": null,
   "metadata": {},
   "outputs": [],
   "source": []
  },
  {
   "cell_type": "code",
   "execution_count": null,
   "metadata": {},
   "outputs": [],
   "source": []
  },
  {
   "cell_type": "code",
   "execution_count": null,
   "metadata": {},
   "outputs": [],
   "source": []
  },
  {
   "cell_type": "code",
   "execution_count": null,
   "metadata": {},
   "outputs": [],
   "source": []
  },
  {
   "cell_type": "code",
   "execution_count": null,
   "metadata": {},
   "outputs": [],
   "source": []
  },
  {
   "cell_type": "markdown",
   "metadata": {},
   "source": [
    "### E) Make a function flight_duration that takes as input a list with the names of two cities and a float that is the distance between the cities in miles. The function will then print an informative statement about how much time it takes to go from one city to the other assuming an (optimistic) average $U_\\mathrm{fly} = 500$mph. Run it for flying from Orlando to Washington DC (trip1), Orlando to Miami (trip2) and Washington DC to Paris (trip3). The corresponding distances are: 759 miles, 204 miles and 3840 miles.\n",
    "\n",
    "\n",
    "1) discuss: \n",
    "    - what are our inputs? \n",
    "    - how will we calculate the required time? \n",
    "    - how will we use the input to print the required statement?\n",
    "2) What information should a good docstring have?\n",
    "\n",
    "3) Write your function\n",
    "\n",
    "4) Call the function for the 3 trips requested.\n",
    "    "
   ]
  },
  {
   "cell_type": "code",
   "execution_count": 4,
   "metadata": {},
   "outputs": [],
   "source": []
  },
  {
   "cell_type": "code",
   "execution_count": null,
   "metadata": {},
   "outputs": [],
   "source": []
  },
  {
   "cell_type": "code",
   "execution_count": null,
   "metadata": {},
   "outputs": [],
   "source": []
  },
  {
   "cell_type": "code",
   "execution_count": null,
   "metadata": {},
   "outputs": [],
   "source": []
  },
  {
   "cell_type": "code",
   "execution_count": null,
   "metadata": {},
   "outputs": [],
   "source": []
  },
  {
   "cell_type": "code",
   "execution_count": null,
   "metadata": {},
   "outputs": [],
   "source": []
  },
  {
   "cell_type": "code",
   "execution_count": null,
   "metadata": {},
   "outputs": [],
   "source": []
  },
  {
   "cell_type": "markdown",
   "metadata": {},
   "source": [
    "### F) Make a function say_it_three_times that takes as input a word my_word and prints it three times in a row. \n",
    "\n",
    "- Discuss: what should the input and output of the function be?\n",
    "\n",
    "- What information should a good docstring have?\n",
    "\n",
    "- Get coding! Start by makin the function print the words in different lines. \n",
    "    - How can you make it print the words in the same line?\n",
    "\n",
    "### Make a tuple three_words that contains the words 'my', 'oh' and 'he'. Call say_it_three_times for each value of the tuple three_words (one by one; we haven't learned about loops yet). Print my_word. Does it work? Why/Why not?"
   ]
  },
  {
   "cell_type": "code",
   "execution_count": null,
   "metadata": {},
   "outputs": [],
   "source": []
  },
  {
   "cell_type": "code",
   "execution_count": null,
   "metadata": {},
   "outputs": [],
   "source": []
  },
  {
   "cell_type": "code",
   "execution_count": null,
   "metadata": {},
   "outputs": [],
   "source": []
  },
  {
   "cell_type": "code",
   "execution_count": null,
   "metadata": {},
   "outputs": [],
   "source": []
  },
  {
   "cell_type": "code",
   "execution_count": null,
   "metadata": {},
   "outputs": [],
   "source": []
  },
  {
   "cell_type": "code",
   "execution_count": null,
   "metadata": {},
   "outputs": [],
   "source": []
  },
  {
   "cell_type": "markdown",
   "metadata": {},
   "source": [
    "### G) You have a list data_1 that contains the values: 0, 20, 60, 120, 240, 62 and a tuple data_2 that contains the values: 10, 40, 30, 20, 12, 2. \n",
    "- Make a list multis whose elements are equal to the multiplication of data_1 with data_2 (so the first element is 0, the second 800 etc). Discuss: how do we start? how do we populate the list?\n",
    "- Make a tuple divs whose elements are equal to the division of data_1 with data_2 ( so first element is 0, second 0.5 etc). Discuss: how do we start? how do we populate the tuple?\n",
    "\n",
    "- Change the third element of multis to 1000. Does it work? Why/why not? If not, how can you make it work?\n",
    "- Change the fouth element of divs to 10. Does it work? Why/why not? If not, how can you make it work?\n",
    "\n",
    "\n"
   ]
  },
  {
   "cell_type": "code",
   "execution_count": null,
   "metadata": {},
   "outputs": [],
   "source": []
  },
  {
   "cell_type": "code",
   "execution_count": null,
   "metadata": {},
   "outputs": [],
   "source": []
  },
  {
   "cell_type": "code",
   "execution_count": null,
   "metadata": {},
   "outputs": [],
   "source": []
  },
  {
   "cell_type": "code",
   "execution_count": null,
   "metadata": {},
   "outputs": [],
   "source": []
  }
 ],
 "metadata": {
  "kernelspec": {
   "display_name": "Python 3",
   "language": "python",
   "name": "python3"
  },
  "language_info": {
   "codemirror_mode": {
    "name": "ipython",
    "version": 3
   },
   "file_extension": ".py",
   "mimetype": "text/x-python",
   "name": "python",
   "nbconvert_exporter": "python",
   "pygments_lexer": "ipython3",
   "version": "3.7.6"
  }
 },
 "nbformat": 4,
 "nbformat_minor": 5
}
