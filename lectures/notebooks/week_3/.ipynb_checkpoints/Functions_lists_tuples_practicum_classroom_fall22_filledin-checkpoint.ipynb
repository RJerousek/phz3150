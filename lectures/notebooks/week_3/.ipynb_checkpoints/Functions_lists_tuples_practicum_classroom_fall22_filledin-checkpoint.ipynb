{
 "cells": [
  {
   "cell_type": "markdown",
   "metadata": {},
   "source": [
    "## Today we will practice things we learned about functions, lists and tuples."
   ]
  },
  {
   "cell_type": "markdown",
   "metadata": {},
   "source": [
    "### Concept reminder:\n",
    "\n",
    "1. Functions:\n",
    "    - are used for calculations you want to do repeatedly. Instead of coding the same thing again and again, you just call the function and you get the result for each case you want.\n",
    "    - Functions need a good docstring!\n",
    "    - The main body of your code and the function can have different names for the same quantity. The name should be consistent in the same body though!\n",
    "    - When your function gives a result you should calculate these numbers some other way to check that they are correct\n",
    "    \n"
   ]
  },
  {
   "cell_type": "code",
   "execution_count": null,
   "metadata": {},
   "outputs": [],
   "source": [
    "def car_distance( time, speed ):\n",
    "    \"\"\"Function that calculates the distance a car moves over time t, when moving at constant \n",
    "    speed u (s = u * t).\n",
    "    Input: time [ s ], speed [ m/s ]\n",
    "    Output: distance [ m ].\"\"\"\n",
    "    \n",
    "    \n",
    "    return time * speed "
   ]
  },
  {
   "cell_type": "code",
   "execution_count": null,
   "metadata": {},
   "outputs": [],
   "source": [
    "#or:\n",
    "\n",
    "def car_distance( time, speed ):\n",
    "    \"\"\"Function that calculates the distance a car moves over time t, when moving at constant \n",
    "    speed u (s = u * t).\n",
    "    Input: time [ s ], speed [ m/s ]\n",
    "    Output: distance [ m ].\"\"\"\n",
    "    \n",
    "    s = time * speed\n",
    "    \n",
    "    return s"
   ]
  },
  {
   "cell_type": "markdown",
   "metadata": {},
   "source": [
    "2. Lists:\n",
    "    - [ ]\n",
    "    - slicing\n",
    "    - mutable\n",
    "    \n",
    "    \n",
    "    "
   ]
  },
  {
   "cell_type": "code",
   "execution_count": 1,
   "metadata": {},
   "outputs": [],
   "source": [
    "days_of_months = [ 31, 28, 31, 30  ]"
   ]
  },
  {
   "cell_type": "code",
   "execution_count": 2,
   "metadata": {},
   "outputs": [],
   "source": [
    "# oops! We are in a leap year! Let's fix the list\n",
    "days_of_months[ 1 ] = 29"
   ]
  },
  {
   "cell_type": "code",
   "execution_count": 3,
   "metadata": {},
   "outputs": [
    {
     "name": "stdout",
     "output_type": "stream",
     "text": [
      "[31, 29, 31, 30]\n"
     ]
    }
   ],
   "source": [
    "print( days_of_months )"
   ]
  },
  {
   "cell_type": "markdown",
   "metadata": {},
   "source": [
    "3. Tuples:\n",
    "    - ( )\n",
    "    - slicing\n",
    "    - immutable"
   ]
  },
  {
   "cell_type": "code",
   "execution_count": 4,
   "metadata": {},
   "outputs": [],
   "source": [
    "days_months_tuple = ( 31, 28, 31, 30 )"
   ]
  },
  {
   "cell_type": "code",
   "execution_count": null,
   "metadata": {},
   "outputs": [],
   "source": [
    "# can I fix it for a leap year?"
   ]
  },
  {
   "cell_type": "code",
   "execution_count": 5,
   "metadata": {},
   "outputs": [
    {
     "name": "stdout",
     "output_type": "stream",
     "text": [
      "(31, 28, 31)\n"
     ]
    }
   ],
   "source": [
    "print( days_months_tuple[ : 3 ])"
   ]
  },
  {
   "cell_type": "code",
   "execution_count": 6,
   "metadata": {},
   "outputs": [
    {
     "ename": "TypeError",
     "evalue": "'tuple' object does not support item assignment",
     "output_type": "error",
     "traceback": [
      "\u001b[0;31m---------------------------------------------------------------------------\u001b[0m",
      "\u001b[0;31mTypeError\u001b[0m                                 Traceback (most recent call last)",
      "\u001b[0;32m/var/folders/vk/lzczn8j541jbb03xcymwp9640000gn/T/ipykernel_93283/3873968726.py\u001b[0m in \u001b[0;36m<module>\u001b[0;34m\u001b[0m\n\u001b[0;32m----> 1\u001b[0;31m \u001b[0mdays_months_tuple\u001b[0m\u001b[0;34m[\u001b[0m \u001b[0;36m1\u001b[0m \u001b[0;34m]\u001b[0m \u001b[0;34m=\u001b[0m \u001b[0;36m29\u001b[0m\u001b[0;34m\u001b[0m\u001b[0;34m\u001b[0m\u001b[0m\n\u001b[0m",
      "\u001b[0;31mTypeError\u001b[0m: 'tuple' object does not support item assignment"
     ]
    }
   ],
   "source": [
    "days_months_tuple[ 1 ] = 29"
   ]
  },
  {
   "cell_type": "code",
   "execution_count": null,
   "metadata": {},
   "outputs": [],
   "source": []
  },
  {
   "cell_type": "markdown",
   "metadata": {},
   "source": [
    "# Practicum!"
   ]
  },
  {
   "cell_type": "markdown",
   "metadata": {},
   "source": [
    "\n",
    "\n",
    "### A. )  Create a function circuit_resistance that uses the measured voltage and current of a circuit and returns its total resistance.  Remember to use a good, appropriate docstring! \n",
    "\n",
    "-- Remember that R = V / I\n",
    "\n",
    "1) Discuss: What should the inputs of your function be? What should the output be?\n",
    "\n",
    "2) Discuss what can go wrong with this function. What info does a good docstring need to have? \n",
    "\n",
    "\n",
    "3) Write your function!\n",
    "\n",
    "\n",
    "4) Print the docstring.\n",
    "\n",
    "5) Assume an initial measurement of V = 10 V and I = 2A. Call circuit_resistance to find the total resistance of the circuit.\n",
    "\n",
    "6) Call circuit_resistance for I = 4A and V  = 10, 20 and 40 V .  \n",
    "\n",
    "7) Call circuit_resistance for V = 100 V and I = 10 and 50 A. \n",
    "\n",
    "\n"
   ]
  },
  {
   "cell_type": "code",
   "execution_count": 7,
   "metadata": {},
   "outputs": [],
   "source": [
    "def circuit_resistance(V, I ):\n",
    "    \"\"\"Function that calculates the resistance of circuit with voltage V and current I.\n",
    "    Input: V [V], I [A]\n",
    "    Output: R [Ohm] \"\"\"\n",
    "    \n",
    "    R = V / I\n",
    "    \n",
    "    \n",
    "    \n",
    "    return R"
   ]
  },
  {
   "cell_type": "code",
   "execution_count": 8,
   "metadata": {},
   "outputs": [
    {
     "name": "stdout",
     "output_type": "stream",
     "text": [
      "Help on function circuit_resistance in module __main__:\n",
      "\n",
      "circuit_resistance(V, I)\n",
      "    Function that calculates the resistance of circuit with voltage V and current I.\n",
      "    Input: V [V], I [A]\n",
      "    Output: R [Ohm]\n",
      "\n"
     ]
    }
   ],
   "source": [
    "help( circuit_resistance )"
   ]
  },
  {
   "cell_type": "code",
   "execution_count": 9,
   "metadata": {},
   "outputs": [
    {
     "name": "stdout",
     "output_type": "stream",
     "text": [
      "First circuit has a resistance of  5.0 Ohm.\n"
     ]
    }
   ],
   "source": [
    "#V = 10 V and I = 2A\n",
    "\n",
    "print( \"First circuit has a resistance of \", circuit_resistance( 10, 2 ), \"Ohm.\" )"
   ]
  },
  {
   "cell_type": "code",
   "execution_count": 10,
   "metadata": {},
   "outputs": [
    {
     "name": "stdout",
     "output_type": "stream",
     "text": [
      "Second circuit has a resistance of  2.5 Ohm.\n",
      "Third circuit has a resistance of  5.0 Ohm.\n"
     ]
    }
   ],
   "source": [
    "# I = 4A and V = 10, 20 and 40 V\n",
    "print( \"Second circuit has a resistance of \", circuit_resistance( 10, 4 ), \"Ohm.\" )\n",
    "print( \"Third circuit has a resistance of \", circuit_resistance( 20, 4 ), \"Ohm.\" )"
   ]
  },
  {
   "cell_type": "code",
   "execution_count": null,
   "metadata": {},
   "outputs": [],
   "source": []
  },
  {
   "cell_type": "code",
   "execution_count": null,
   "metadata": {},
   "outputs": [],
   "source": []
  },
  {
   "cell_type": "code",
   "execution_count": null,
   "metadata": {},
   "outputs": [],
   "source": []
  },
  {
   "cell_type": "markdown",
   "metadata": {},
   "source": [
    "### B. )  It's still storm season, so let's create a code that calculates the distance to where lightning strucks. Create function *thunderstruck* that calculates the distance from you of the point where lightning struck. Remember that lightning travels with the speed of light, so you can assume you see it instantaneously (as soon as it happens). Thunder on the other hand travels with the speed of sound, at $u_{sound} = 343$  m/s or $1088$ feet/s.  Remember to write an informative docstring.\n",
    "\n",
    "1) Discuss: what should the input of the function be? What should be its output?\n",
    "\n",
    "2) What information should a good docstring have?\n",
    "\n",
    "3) Code your funtion\n",
    "\n",
    "4) Print the docstring\n",
    "\n",
    "5) You hear the roar of thunder 5s after you see the lightning. How far away was the strike (in feet)?\n",
    "\n",
    "6) You hear the roar of thunder 12s after you saw the lightning. Where did it hit in miles ( 1miles = 5280 feet )?\n"
   ]
  },
  {
   "cell_type": "code",
   "execution_count": 11,
   "metadata": {},
   "outputs": [],
   "source": [
    "def thunderstruck( t ):\n",
    "    \"\"\"\n",
    "    Function that calculates how far away from us the lightning strucks. \n",
    "    Input : time between lightning and roar of thunder [s]\n",
    "    Output: distance [ ft ]\n",
    "    \"\"\"\n",
    "    \n",
    "    d = 1088 * t\n",
    "    \n",
    "    \n",
    "    return d"
   ]
  },
  {
   "cell_type": "code",
   "execution_count": 12,
   "metadata": {},
   "outputs": [
    {
     "name": "stdout",
     "output_type": "stream",
     "text": [
      "Help on function thunderstruck in module __main__:\n",
      "\n",
      "thunderstruck(t)\n",
      "    Function that calculates how far away from us the lightning strucks. \n",
      "    Input : time between lightning and roar of thunder [s]\n",
      "    Output: distance [ ft ]\n",
      "\n"
     ]
    }
   ],
   "source": [
    "help( thunderstruck )"
   ]
  },
  {
   "cell_type": "code",
   "execution_count": 13,
   "metadata": {},
   "outputs": [
    {
     "name": "stdout",
     "output_type": "stream",
     "text": [
      "The lighntning struck  5440  feet away.\n"
     ]
    }
   ],
   "source": [
    "# hear the roar of thunder 5s after you see the lightning. How far away was the strike (in feet)?\n",
    "print( \"The lighntning struck \", thunderstruck( 5 ) ,\" feet away.\" )"
   ]
  },
  {
   "cell_type": "code",
   "execution_count": 14,
   "metadata": {},
   "outputs": [
    {
     "name": "stdout",
     "output_type": "stream",
     "text": [
      "The lighntning struck  2.4727272727272727  miles away.\n"
     ]
    }
   ],
   "source": [
    "# hear the roar of thunder 12s after you saw the lightning. Where did it hit in miles ( 1miles = 5280 feet )?\n",
    "\n",
    "print( \"The lighntning struck \", thunderstruck( 12 ) / 5280 ,\" miles away.\" )"
   ]
  },
  {
   "cell_type": "code",
   "execution_count": null,
   "metadata": {},
   "outputs": [],
   "source": []
  },
  {
   "cell_type": "markdown",
   "metadata": {},
   "source": [
    "### C. ) Write a function called called FtoC that changes a temperature from F to C. \n",
    "#### Consider the following: \n",
    "\n",
    "1) What is the function that connects F to C? \n",
    "\n",
    "2) What should the input of the function be? What should the output be?\n",
    "\n",
    "3) What information does a good docstring need to have?\n",
    "\n",
    "4) Write your function\n",
    "\n",
    "\n",
    "### Save it in a separate file, not your Jupyter notebook. \n",
    "\n",
    "### In your main homework file, import this function and use it six times to convert -40, 0, 32, 75, 98.6, and 212 Fahrenheit to Celsius, printing each value on a line by itself. "
   ]
  },
  {
   "cell_type": "code",
   "execution_count": 15,
   "metadata": {},
   "outputs": [],
   "source": [
    "from FtoC import FtoC"
   ]
  },
  {
   "cell_type": "code",
   "execution_count": 16,
   "metadata": {},
   "outputs": [
    {
     "name": "stdout",
     "output_type": "stream",
     "text": [
      "-41.111111111111114\n"
     ]
    }
   ],
   "source": [
    "print( FtoC( -42 ) )"
   ]
  },
  {
   "cell_type": "code",
   "execution_count": 17,
   "metadata": {},
   "outputs": [
    {
     "name": "stdout",
     "output_type": "stream",
     "text": [
      "100.0\n"
     ]
    }
   ],
   "source": [
    "print( FtoC( 212 ) )"
   ]
  },
  {
   "cell_type": "code",
   "execution_count": null,
   "metadata": {},
   "outputs": [],
   "source": []
  },
  {
   "cell_type": "code",
   "execution_count": null,
   "metadata": {},
   "outputs": [],
   "source": []
  },
  {
   "cell_type": "markdown",
   "metadata": {},
   "source": [
    "### D) Let's practice  working with lists:\n",
    "\n",
    "1) Create a list quantity_1 with numbers starting from 100 to 500 with a step of 100.  \n",
    "\n",
    "2) Create a list quantity_2 with numbers from 10 to 50 with a step of 10. \n",
    "\n",
    "3) Print quantity_1. Print the 2nd up to and including the 4th and element of quantity_2.\n",
    "\n",
    "4) Print the ratio of quantity_1 to quantity_2. Can you do it in one line? Why/why not?\n"
   ]
  },
  {
   "cell_type": "code",
   "execution_count": 18,
   "metadata": {},
   "outputs": [],
   "source": [
    "quantity_1 = [ 100, 200, 300, 400, 500 ]\n",
    "quantity_2 = [ 10, 20, 30, 40, 50 ]"
   ]
  },
  {
   "cell_type": "code",
   "execution_count": 19,
   "metadata": {},
   "outputs": [
    {
     "name": "stdout",
     "output_type": "stream",
     "text": [
      "[100, 200, 300, 400, 500]\n"
     ]
    }
   ],
   "source": [
    "print( quantity_1 )"
   ]
  },
  {
   "cell_type": "code",
   "execution_count": 20,
   "metadata": {},
   "outputs": [
    {
     "name": "stdout",
     "output_type": "stream",
     "text": [
      "[20, 30, 40]\n"
     ]
    }
   ],
   "source": [
    "print( quantity_2[ 1 : 4 ]  )"
   ]
  },
  {
   "cell_type": "code",
   "execution_count": 21,
   "metadata": {},
   "outputs": [
    {
     "ename": "TypeError",
     "evalue": "unsupported operand type(s) for /: 'list' and 'list'",
     "output_type": "error",
     "traceback": [
      "\u001b[0;31m---------------------------------------------------------------------------\u001b[0m",
      "\u001b[0;31mTypeError\u001b[0m                                 Traceback (most recent call last)",
      "\u001b[0;32m/var/folders/vk/lzczn8j541jbb03xcymwp9640000gn/T/ipykernel_93283/4234994032.py\u001b[0m in \u001b[0;36m<module>\u001b[0;34m\u001b[0m\n\u001b[0;32m----> 1\u001b[0;31m \u001b[0mprint\u001b[0m\u001b[0;34m(\u001b[0m \u001b[0mquantity_1\u001b[0m\u001b[0;34m/\u001b[0m \u001b[0mquantity_2\u001b[0m  \u001b[0;34m)\u001b[0m\u001b[0;34m\u001b[0m\u001b[0;34m\u001b[0m\u001b[0m\n\u001b[0m",
      "\u001b[0;31mTypeError\u001b[0m: unsupported operand type(s) for /: 'list' and 'list'"
     ]
    }
   ],
   "source": [
    "print( quantity_1/ quantity_2  )"
   ]
  },
  {
   "cell_type": "code",
   "execution_count": 22,
   "metadata": {},
   "outputs": [
    {
     "name": "stdout",
     "output_type": "stream",
     "text": [
      "10.0\n",
      "10.0\n"
     ]
    }
   ],
   "source": [
    "print( quantity_1[ 0 ]/ quantity_2[ 0 ]  )\n",
    "print( quantity_1[ 1 ]/ quantity_2[ 1 ]  )"
   ]
  },
  {
   "cell_type": "code",
   "execution_count": 23,
   "metadata": {},
   "outputs": [
    {
     "name": "stdout",
     "output_type": "stream",
     "text": [
      "10.0\n",
      "10.0\n"
     ]
    }
   ],
   "source": [
    "for i in range( 2 ):\n",
    "    print( quantity_1[ i ]/ quantity_2[ i ] )"
   ]
  },
  {
   "cell_type": "code",
   "execution_count": null,
   "metadata": {},
   "outputs": [],
   "source": []
  },
  {
   "cell_type": "markdown",
   "metadata": {},
   "source": [
    "### E) Make a function flight_duration that takes as input a list with the names of two cities and a float that is the distance between the cities in miles. The function will then print an informative statement about how much time it takes to go from one city to the other assuming an (optimistic) average $U_\\mathrm{fly} = 500$mph. Run it for flying from Orlando to Washington DC (trip1), Orlando to Miami (trip2) and Washington DC to Paris (trip3). The corresponding distances are: 759 miles, 204 miles and 3840 miles.\n",
    "\n",
    "\n",
    "1) discuss: \n",
    "    - what are our inputs? \n",
    "    - how will we calculate the required time? \n",
    "    - how will we use the input to print the required statement?\n",
    "    \n",
    "2) What information should a good docstring have?\n",
    "\n",
    "3) Write your function\n",
    "\n",
    "4) Call the function for the 3 trips requested.\n",
    "    "
   ]
  },
  {
   "cell_type": "code",
   "execution_count": 24,
   "metadata": {},
   "outputs": [],
   "source": [
    "def flight_duration( cities, dist ):\n",
    "    \"\"\"Calculates the time it takes to fly from city 1 to city 2 assuming a constant \n",
    "    speed of 500mph.\n",
    "    Input: List of city names, distance [miles]\n",
    "    Output: None/ print statement \"\"\"\n",
    "    \n",
    "    time = dist/ 500.\n",
    "    \n",
    "    print( \" From \", cities[ 0 ]  , \" to \", cities[ 1 ]  ,\n",
    "          \" it will take approx. \", time  ,\" hours.\" )\n",
    "    \n",
    "    "
   ]
  },
  {
   "cell_type": "code",
   "execution_count": 28,
   "metadata": {},
   "outputs": [
    {
     "name": "stdout",
     "output_type": "stream",
     "text": [
      " From  Orlando  to  DC  it will take approx.  1.518  hours.\n"
     ]
    }
   ],
   "source": [
    "cities = [ 'Orlando', 'DC' ]\n",
    "dist   = 759\n",
    "\n",
    "flight_duration( cities, dist )"
   ]
  },
  {
   "cell_type": "code",
   "execution_count": 30,
   "metadata": {},
   "outputs": [
    {
     "name": "stdout",
     "output_type": "stream",
     "text": [
      " From  Orlando  to  Miami  it will take approx.  0.408  hours.\n"
     ]
    }
   ],
   "source": [
    "cities = [ 'Orlando', 'Miami' ]\n",
    "dist   = 204\n",
    "\n",
    "flight_duration( cities, dist )"
   ]
  },
  {
   "cell_type": "code",
   "execution_count": null,
   "metadata": {},
   "outputs": [],
   "source": []
  },
  {
   "cell_type": "code",
   "execution_count": null,
   "metadata": {},
   "outputs": [],
   "source": []
  },
  {
   "cell_type": "code",
   "execution_count": null,
   "metadata": {},
   "outputs": [],
   "source": []
  },
  {
   "cell_type": "code",
   "execution_count": null,
   "metadata": {},
   "outputs": [],
   "source": []
  },
  {
   "cell_type": "markdown",
   "metadata": {},
   "source": [
    "### F) Make a function say_it_three_times that takes as input a word my_word and prints it three times in a row. \n",
    "\n",
    "- Discuss: what should the input and output of the function be?\n",
    "\n",
    "- What information should a good docstring have?\n",
    "\n",
    "- Get coding! Start by makin the function print the words in different lines. \n",
    "    - How can you make it print the words in the same line?\n",
    "\n",
    "### Make a tuple three_words that contains the words 'my', 'oh' and 'he'. Call say_it_three_times for each value of the tuple three_words (one by one; we haven't learned about loops yet). Print my_word. Does it work? Why/Why not?"
   ]
  },
  {
   "cell_type": "code",
   "execution_count": null,
   "metadata": {},
   "outputs": [],
   "source": []
  },
  {
   "cell_type": "code",
   "execution_count": null,
   "metadata": {},
   "outputs": [],
   "source": []
  },
  {
   "cell_type": "code",
   "execution_count": null,
   "metadata": {},
   "outputs": [],
   "source": []
  },
  {
   "cell_type": "code",
   "execution_count": null,
   "metadata": {},
   "outputs": [],
   "source": []
  },
  {
   "cell_type": "code",
   "execution_count": null,
   "metadata": {},
   "outputs": [],
   "source": []
  },
  {
   "cell_type": "code",
   "execution_count": null,
   "metadata": {},
   "outputs": [],
   "source": []
  },
  {
   "cell_type": "markdown",
   "metadata": {},
   "source": [
    "### G) You have a list data_1 that contains the values: 0, 20, 60, 120, 240, 62 and a tuple data_2 that contains the values: 10, 40, 30, 20, 12, 2. \n",
    "- Make a list multis whose elements are equal to the multiplication of data_1 with data_2 (so the first element is 0, the second 800 etc). Discuss: how do we start? how do we populate the list?\n",
    "- Make a tuple divs whose elements are equal to the division of data_1 with data_2 ( so first element is 0, second 0.5 etc). Discuss: how do we start? how do we populate the tuple?\n",
    "\n",
    "- Change the third element of multis to 1000. Does it work? Why/why not? If not, how can you make it work?\n",
    "- Change the fouth element of divs to 10. Does it work? Why/why not? If not, how can you make it work?\n",
    "\n",
    "\n"
   ]
  },
  {
   "cell_type": "code",
   "execution_count": 31,
   "metadata": {},
   "outputs": [],
   "source": [
    "data_1 = [ 0, 20, 60, 120, 240, 62 ]\n",
    "data_2 = ( 10, 40, 30, 20, 12, 2 )"
   ]
  },
  {
   "cell_type": "code",
   "execution_count": 32,
   "metadata": {},
   "outputs": [],
   "source": [
    "multis = [ data_1[ 0 ] * data_2[ 0 ] , data_1[ 1 ] * data_2[ 1 ], \n",
    "         data_1[ 2 ] * data_2[ 2 ], data_1[ 3 ] * data_2[ 3 ], \n",
    "         data_1[ 4 ] * data_2[ 4 ], data_1[ 5 ] * data_2[ 5 ] ]"
   ]
  },
  {
   "cell_type": "code",
   "execution_count": 33,
   "metadata": {},
   "outputs": [
    {
     "name": "stdout",
     "output_type": "stream",
     "text": [
      "[0, 800, 1800, 2400, 2880, 124]\n"
     ]
    }
   ],
   "source": [
    "print( multis )"
   ]
  },
  {
   "cell_type": "code",
   "execution_count": null,
   "metadata": {},
   "outputs": [],
   "source": [
    "#multis = [data_1[ 0 ] * data_2[ 0 ]]\n",
    "#for j\n",
    "# multis.append(data_1[ j ] * data_2[ j ])"
   ]
  },
  {
   "cell_type": "code",
   "execution_count": 34,
   "metadata": {},
   "outputs": [],
   "source": [
    "divs = (data_1[ 0 ] / data_2[ 0 ] , data_1[ 1 ] / data_2[ 1 ], \n",
    "         data_1[ 2 ] / data_2[ 2 ], data_1[ 3 ] / data_2[ 3 ], \n",
    "         data_1[ 4 ] / data_2[ 4 ], data_1[ 5 ] / data_2[ 5 ])"
   ]
  },
  {
   "cell_type": "code",
   "execution_count": 35,
   "metadata": {},
   "outputs": [
    {
     "name": "stdout",
     "output_type": "stream",
     "text": [
      "(0.0, 0.5, 2.0, 6.0, 20.0, 31.0)\n"
     ]
    }
   ],
   "source": [
    "print( divs )"
   ]
  },
  {
   "cell_type": "code",
   "execution_count": null,
   "metadata": {},
   "outputs": [],
   "source": [
    "# divs = ( data_1[ 0 ] / data_2[ 0 ] , )\n",
    "# divs = divs + (data_1[ 1 ] / data_2[ 1 ] ,)\n",
    "# for loop "
   ]
  },
  {
   "cell_type": "code",
   "execution_count": 36,
   "metadata": {},
   "outputs": [
    {
     "name": "stdout",
     "output_type": "stream",
     "text": [
      "[0, 800, 1000.0, 2400, 2880, 124]\n"
     ]
    }
   ],
   "source": [
    "# Change the third element of multis to 1000.\n",
    "\n",
    "multis[ 2 ] = 1000.\n",
    "\n",
    "print( multis )\n"
   ]
  },
  {
   "cell_type": "code",
   "execution_count": 37,
   "metadata": {},
   "outputs": [
    {
     "ename": "TypeError",
     "evalue": "'tuple' object does not support item assignment",
     "output_type": "error",
     "traceback": [
      "\u001b[0;31m---------------------------------------------------------------------------\u001b[0m",
      "\u001b[0;31mTypeError\u001b[0m                                 Traceback (most recent call last)",
      "\u001b[0;32m/var/folders/vk/lzczn8j541jbb03xcymwp9640000gn/T/ipykernel_93283/1104851641.py\u001b[0m in \u001b[0;36m<module>\u001b[0;34m\u001b[0m\n\u001b[1;32m      1\u001b[0m \u001b[0;31m# Change the fouth element of divs to 10.\u001b[0m\u001b[0;34m\u001b[0m\u001b[0;34m\u001b[0m\u001b[0;34m\u001b[0m\u001b[0m\n\u001b[1;32m      2\u001b[0m \u001b[0;34m\u001b[0m\u001b[0m\n\u001b[0;32m----> 3\u001b[0;31m \u001b[0mdivs\u001b[0m\u001b[0;34m[\u001b[0m \u001b[0;36m3\u001b[0m \u001b[0;34m]\u001b[0m \u001b[0;34m=\u001b[0m \u001b[0;36m10.\u001b[0m\u001b[0;34m\u001b[0m\u001b[0;34m\u001b[0m\u001b[0m\n\u001b[0m\u001b[1;32m      4\u001b[0m \u001b[0mprint\u001b[0m\u001b[0;34m(\u001b[0m \u001b[0mdivs\u001b[0m \u001b[0;34m)\u001b[0m\u001b[0;34m\u001b[0m\u001b[0;34m\u001b[0m\u001b[0m\n",
      "\u001b[0;31mTypeError\u001b[0m: 'tuple' object does not support item assignment"
     ]
    }
   ],
   "source": [
    "# Change the fouth element of divs to 10.\n",
    "\n",
    "divs[ 3 ] = 10. \n",
    "print( divs )"
   ]
  },
  {
   "cell_type": "code",
   "execution_count": 38,
   "metadata": {},
   "outputs": [],
   "source": [
    "divs = divs[ : 3] + (10, ) + divs[ 4: ]"
   ]
  },
  {
   "cell_type": "code",
   "execution_count": 39,
   "metadata": {},
   "outputs": [
    {
     "name": "stdout",
     "output_type": "stream",
     "text": [
      "(0.0, 0.5, 2.0, 10, 20.0, 31.0)\n"
     ]
    }
   ],
   "source": [
    "print( divs )"
   ]
  },
  {
   "cell_type": "code",
   "execution_count": null,
   "metadata": {},
   "outputs": [],
   "source": []
  }
 ],
 "metadata": {
  "kernelspec": {
   "display_name": "Python 3",
   "language": "python",
   "name": "python3"
  },
  "language_info": {
   "codemirror_mode": {
    "name": "ipython",
    "version": 3
   },
   "file_extension": ".py",
   "mimetype": "text/x-python",
   "name": "python",
   "nbconvert_exporter": "python",
   "pygments_lexer": "ipython3",
   "version": "3.7.6"
  }
 },
 "nbformat": 4,
 "nbformat_minor": 5
}
