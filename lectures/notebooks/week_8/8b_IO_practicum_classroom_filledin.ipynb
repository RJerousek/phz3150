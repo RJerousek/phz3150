{
 "cells": [
  {
   "cell_type": "code",
   "execution_count": 17,
   "metadata": {},
   "outputs": [],
   "source": [
    "import numpy as np\n",
    "import csv \n",
    "import matplotlib.pyplot as plt\n",
    "import pandas as pd"
   ]
  },
  {
   "cell_type": "code",
   "execution_count": null,
   "metadata": {},
   "outputs": [],
   "source": []
  },
  {
   "cell_type": "markdown",
   "metadata": {},
   "source": [
    "### Practice 1. In a separate file *modulos.py*, not this notebook, make a function modulos_ten that takes as input a list and will return a new list that contains only the elements of the original list  that are exactly divisible by 10. Import the function here. Call it for the list:  inp_list = [ 2, -4, 10, 32, 40, 27, 20, 31 ]"
   ]
  },
  {
   "cell_type": "code",
   "execution_count": 18,
   "metadata": {},
   "outputs": [],
   "source": [
    "from modulos import modulos_ten"
   ]
  },
  {
   "cell_type": "code",
   "execution_count": 19,
   "metadata": {},
   "outputs": [],
   "source": [
    "inp_list = [ 2, -4, 10, 32, 40, 27, 20, 31 ]"
   ]
  },
  {
   "cell_type": "code",
   "execution_count": 20,
   "metadata": {},
   "outputs": [
    {
     "name": "stdout",
     "output_type": "stream",
     "text": [
      "[10, 40, 20]\n"
     ]
    }
   ],
   "source": [
    "print( modulos_ten( inp_list ) )"
   ]
  },
  {
   "cell_type": "code",
   "execution_count": null,
   "metadata": {},
   "outputs": [],
   "source": []
  },
  {
   "cell_type": "code",
   "execution_count": 2,
   "metadata": {},
   "outputs": [],
   "source": []
  },
  {
   "cell_type": "code",
   "execution_count": null,
   "metadata": {},
   "outputs": [],
   "source": []
  },
  {
   "cell_type": "code",
   "execution_count": null,
   "metadata": {},
   "outputs": [],
   "source": []
  },
  {
   "cell_type": "markdown",
   "metadata": {},
   "source": [
    "### 5. The spectrum of a star can be well approximated using the assumption that the star is a black body. A black body is an idealized object that emits thermal radiation in a continuum spectrum (i.e. at all wavelengths) according to its temperature. According to Planck’s law a black body (here our star) of temperature T emits energy per unit wavelength $\\lambda$ of: \n",
    "\n",
    "### $B(\\lambda,T )$ = $\\frac{2 h c^2}{ \\lambda^5}$ $\\frac{1}{ e^{\\frac{hc}{\\lambda k_B T} } -1 }$,  \n",
    "\n",
    "\n",
    "\n",
    "### where c is the speed of light, h is the Planck constant and $k_B$ the Boltzmann constant. Make a function *star* that takes as input the temperature of a star and the wavelength range over which you want to calculate the black body spectrum and returns the star spectrum. Remember that: $c = 3*10^8$ m/s, $h = 6.626 * 10^{-34}$ $\\mathrm{kg} m^2/s$ and $k_B = 1.38 * 10^{-23} $ $\\mathrm{kg} m^2/s^2/K$ . \n",
    "\n",
    "### Make an array of the wavelengths *wav_bb* going from 0.1 to 25.1 microns with a step of 0.1. Store the function in file *bb.py*. Import it here and call the function for a body of temperature 3,000K, 7,000K and 12,000K. Plot the two spectra using a logarithmic y axis and a double logarithmic axis.\n",
    "\n",
    "### Print the flux of the BB for wavelengths between 1.0 and 1.4 microns."
   ]
  },
  {
   "cell_type": "code",
   "execution_count": 168,
   "metadata": {},
   "outputs": [],
   "source": []
  },
  {
   "cell_type": "code",
   "execution_count": 175,
   "metadata": {},
   "outputs": [],
   "source": []
  },
  {
   "cell_type": "code",
   "execution_count": 176,
   "metadata": {},
   "outputs": [],
   "source": []
  },
  {
   "cell_type": "code",
   "execution_count": 177,
   "metadata": {},
   "outputs": [],
   "source": []
  },
  {
   "cell_type": "code",
   "execution_count": 178,
   "metadata": {},
   "outputs": [],
   "source": []
  },
  {
   "cell_type": "markdown",
   "metadata": {},
   "source": [
    "### - 2b. Numpy & FOR"
   ]
  },
  {
   "cell_type": "markdown",
   "metadata": {},
   "source": [
    "### FOR is for things you want to do repeatedly. It is great for repeated things with loops, tuples, dictionaries or sometimes ND arrays. When you can use numpy though, you should prefer it over FOR. It is *much* faster:"
   ]
  },
  {
   "cell_type": "markdown",
   "metadata": {},
   "source": [
    "### Create list that is the square of list check_list:"
   ]
  },
  {
   "cell_type": "code",
   "execution_count": null,
   "metadata": {},
   "outputs": [],
   "source": [
    "check_list = [ 1, 3, 5, 7, 9 ]\n",
    "\n",
    "# can I do check_list = check_list**2? \n",
    " "
   ]
  },
  {
   "cell_type": "code",
   "execution_count": null,
   "metadata": {},
   "outputs": [],
   "source": [
    "check_list = check_list **2"
   ]
  },
  {
   "cell_type": "code",
   "execution_count": null,
   "metadata": {},
   "outputs": [],
   "source": [
    "for i in range( len( check_list ) ):\n",
    "    check_list[ i ] = check_list[ i ] **2"
   ]
  },
  {
   "cell_type": "markdown",
   "metadata": {},
   "source": [
    "### Create numpy array cube_ar that is the array ar1 to the power of 3"
   ]
  },
  {
   "cell_type": "code",
   "execution_count": null,
   "metadata": {},
   "outputs": [],
   "source": [
    "ar1 = np.arange( 0.1, 1e7, 0.2 )"
   ]
  },
  {
   "cell_type": "code",
   "execution_count": null,
   "metadata": {},
   "outputs": [],
   "source": [
    "%time\n",
    "#compare this:\n",
    "\n",
    "cube_ar = ar1**3\n"
   ]
  },
  {
   "cell_type": "code",
   "execution_count": null,
   "metadata": {},
   "outputs": [],
   "source": [
    "%time\n",
    "#to this:\n",
    "\n",
    "for i in range( len( ar1 ) ):\n",
    "    ar1[ i ] = ar1[ i ] ** 3"
   ]
  },
  {
   "cell_type": "code",
   "execution_count": null,
   "metadata": {},
   "outputs": [],
   "source": []
  },
  {
   "cell_type": "markdown",
   "metadata": {},
   "source": [
    "### But what if I have a 5 by 5 array and I want to populate it with information from two other arrays like: $z_{ij} = x_i * y_j$?  \n",
    "\n",
    "### Practice 2. Make a 5 by 5 numpy array *data_2d* of zeros. Set variable *x* equal to a numpy range from 5 to 10; and variable *y* the exponential of x. Populate *data_2d* following $z_{ij} = x_i * y_j$ . Save  *data_2d* to a file named my_radom_data.dat. Add a header like \"These are my random data\" and format the output to have 4 digit accuracy."
   ]
  },
  {
   "cell_type": "code",
   "execution_count": null,
   "metadata": {},
   "outputs": [],
   "source": []
  },
  {
   "cell_type": "code",
   "execution_count": null,
   "metadata": {},
   "outputs": [],
   "source": []
  },
  {
   "cell_type": "code",
   "execution_count": null,
   "metadata": {},
   "outputs": [],
   "source": []
  },
  {
   "cell_type": "code",
   "execution_count": null,
   "metadata": {},
   "outputs": [],
   "source": []
  },
  {
   "cell_type": "code",
   "execution_count": null,
   "metadata": {},
   "outputs": [],
   "source": []
  },
  {
   "cell_type": "markdown",
   "metadata": {},
   "source": [
    "### 6. *space_travel.dat* contains the distances of an interplanetary trip between four bodies of the solar system. For simplicity, the data are stored in a 4 by 4 table with every line being the distance from a body to another body in AU (indicated by the columns; see also the file). \n",
    "- Read the data from *space_travel.dat* in a variable *space_trip*. \n",
    "- Your spaceship takes passengers from Mercury. You ask them where they want to go. \n",
    "    - If trip is possible you tell them how far the destination is and how long it takes if they travel with a speed of 0.05 AU/day. \n",
    "    - Discuss: how do we ask our passengers where they want to go? \n",
    "        - [ you can use Mercury == 0, Venus == 1, Earth == 2 and the Moon == 3].\n",
    "    - how do we find how long their trip will take?\n",
    "    - code!\n",
    "    - try it out for a trip to the Earth\n",
    "    \n",
    "    \n",
    "- What is the longest trip we can do from the Earth?\n",
    "    - Discuss: how do we find the longest trip?\n",
    "    - print an informative statement for the longest distance you can fly from the Earth in AU.\n"
   ]
  },
  {
   "cell_type": "code",
   "execution_count": 21,
   "metadata": {},
   "outputs": [],
   "source": [
    "space_trip = np.loadtxt( 'space_travel.dat' )   #genfromtxt"
   ]
  },
  {
   "cell_type": "code",
   "execution_count": 22,
   "metadata": {},
   "outputs": [
    {
     "name": "stdout",
     "output_type": "stream",
     "text": [
      "[[0.     0.4847 0.8572 0.859 ]\n",
      " [0.4847 0.     0.3915 0.3938]\n",
      " [0.8572 0.3915 0.     0.003 ]\n",
      " [0.859  0.3938 0.003  0.    ]]\n"
     ]
    }
   ],
   "source": [
    "print( space_trip )"
   ]
  },
  {
   "cell_type": "code",
   "execution_count": 23,
   "metadata": {},
   "outputs": [
    {
     "name": "stdout",
     "output_type": "stream",
     "text": [
      "Where do you wanna go to from Mercury? Please use Mercury=0,Venus=1,Earth=2 and the Moon=3.2\n"
     ]
    }
   ],
   "source": [
    "start_plan = input( 'Where do you wanna go to from Mercury? Please use Mercury=0,Venus=1,Earth=2 and the Moon=3.' )"
   ]
  },
  {
   "cell_type": "code",
   "execution_count": 28,
   "metadata": {},
   "outputs": [],
   "source": [
    "start_plan = int( start_plan )"
   ]
  },
  {
   "cell_type": "code",
   "execution_count": 29,
   "metadata": {},
   "outputs": [
    {
     "name": "stdout",
     "output_type": "stream",
     "text": [
      "0.8572\n"
     ]
    }
   ],
   "source": [
    "distance = space_trip[ 0, start_plan ]\n",
    "print( distance )"
   ]
  },
  {
   "cell_type": "code",
   "execution_count": 30,
   "metadata": {},
   "outputs": [
    {
     "name": "stdout",
     "output_type": "stream",
     "text": [
      "Your trip will take  17.144 days.\n"
     ]
    }
   ],
   "source": [
    "#0.05AU/day\n",
    "print( 'Your trip will take ',  distance/ 0.05  ,'days.')"
   ]
  },
  {
   "cell_type": "code",
   "execution_count": 31,
   "metadata": {},
   "outputs": [
    {
     "name": "stdout",
     "output_type": "stream",
     "text": [
      "The longst trip from the Earth is  0.8572 AU long.\n"
     ]
    }
   ],
   "source": [
    "#know that I start from the Earth:\n",
    "\n",
    "possible_trips = space_trip[ 2, : ]\n",
    "longst_trip = np.max( possible_trips )\n",
    "\n",
    "print( 'The longst trip from the Earth is ', longst_trip, 'AU long.')"
   ]
  },
  {
   "cell_type": "code",
   "execution_count": null,
   "metadata": {},
   "outputs": [],
   "source": []
  },
  {
   "cell_type": "code",
   "execution_count": null,
   "metadata": {},
   "outputs": [],
   "source": []
  },
  {
   "cell_type": "code",
   "execution_count": null,
   "metadata": {},
   "outputs": [],
   "source": []
  },
  {
   "cell_type": "code",
   "execution_count": null,
   "metadata": {},
   "outputs": [],
   "source": []
  },
  {
   "cell_type": "markdown",
   "metadata": {},
   "source": [
    "### Practice 3. You have a dictionary of names of students and a list of their average grades ***classroom***. You need to scan through the names and print a letter grade for every student (assume plain ABC with A if grade is >0.90 ; B if grade 0.90> n > 0.80 and C if grade < 0.80)."
   ]
  },
  {
   "cell_type": "code",
   "execution_count": null,
   "metadata": {},
   "outputs": [],
   "source": []
  },
  {
   "cell_type": "code",
   "execution_count": null,
   "metadata": {},
   "outputs": [],
   "source": []
  },
  {
   "cell_type": "code",
   "execution_count": null,
   "metadata": {},
   "outputs": [],
   "source": []
  },
  {
   "cell_type": "code",
   "execution_count": null,
   "metadata": {},
   "outputs": [],
   "source": []
  },
  {
   "cell_type": "code",
   "execution_count": null,
   "metadata": {},
   "outputs": [],
   "source": []
  },
  {
   "cell_type": "markdown",
   "metadata": {},
   "source": [
    "### Practice 4. You have the following arrays of data. \n",
    "- Print the 9.42 from array *quantity_1*\n",
    "- Print the multiplication of the 5.33 from *quantity_1* with the third line of  *quantity_2*\n",
    "- Print the elements where  *quantity_1* is equal to  *quantity_2*. Print the indexes where this happens.\n",
    "- Print the elements where  *quantity_1* is equal to the negative of *quantity_2*\n",
    "- Make quantity_3 equal to the multiplication (element wise not array multiplication) of *quantity_1* and *quantity_2*"
   ]
  },
  {
   "cell_type": "code",
   "execution_count": 6,
   "metadata": {},
   "outputs": [],
   "source": [
    "quantity_1 = np.array( [ [ 1.12, 5.33, 1.21, -3.45 ],\n",
    "                         [ 8.47, -2.08, 3.32, 1.07 ],\n",
    "                         [ 2.25, 9.42, -0.41, 6.12 ],\n",
    "                         [ 12.2, 0.34, -10.1, 4.32 ]\n",
    "                       ])\n",
    "\n",
    "quantity_2 = np.array( [ [ 2.42, 5.33, -1.21, 2.40 ],\n",
    "                         [ 1.57, 2.08, -1.25, 2.73 ],\n",
    "                         [ 1.27, 3.99, -0.41, 1.78 ],\n",
    "                         [ 6.28, 0.34, 2.12, 2.32  ]\n",
    "                       ])"
   ]
  },
  {
   "cell_type": "code",
   "execution_count": null,
   "metadata": {},
   "outputs": [],
   "source": []
  },
  {
   "cell_type": "code",
   "execution_count": null,
   "metadata": {},
   "outputs": [],
   "source": []
  },
  {
   "cell_type": "code",
   "execution_count": null,
   "metadata": {},
   "outputs": [],
   "source": []
  },
  {
   "cell_type": "markdown",
   "metadata": {},
   "source": [
    "### Practice 5. When studying clouds one of the important things to characterize them is at what scattering angles their polarization changes sign. File *Ven2p.00.350.dat* contains information about how a Venusian cloud model scatters light at different angles. \n",
    "- Read it in using your favorite numpy function. \n",
    "- Assign the first column to variable *theta*, the second one to variable *flux* and the eigth to variable *pol*.\n",
    "- Make a code that scans *pol* and finds where it changes sign (both + to -, - to +). Print information about the angle *theta* where that happens. Store this information in some way for the next step.\n",
    "- Plot the flux as a function of the scattering angle ( flux(theta) ) and overplot the points where polarization changes sign."
   ]
  },
  {
   "cell_type": "code",
   "execution_count": 7,
   "metadata": {},
   "outputs": [],
   "source": []
  },
  {
   "cell_type": "code",
   "execution_count": 13,
   "metadata": {},
   "outputs": [],
   "source": []
  },
  {
   "cell_type": "code",
   "execution_count": null,
   "metadata": {},
   "outputs": [],
   "source": []
  },
  {
   "cell_type": "code",
   "execution_count": null,
   "metadata": {},
   "outputs": [],
   "source": []
  },
  {
   "cell_type": "code",
   "execution_count": null,
   "metadata": {},
   "outputs": [],
   "source": []
  },
  {
   "cell_type": "code",
   "execution_count": null,
   "metadata": {},
   "outputs": [],
   "source": []
  },
  {
   "cell_type": "code",
   "execution_count": null,
   "metadata": {},
   "outputs": [],
   "source": []
  },
  {
   "cell_type": "markdown",
   "metadata": {},
   "source": [
    "### 1. Open and write to a file named 'My_log.txt'. You should:\n",
    "- open the file using the appropriate mode\n",
    "- Use the formating rules we learned in a previous lecture to write in there the sentences: \n",
    "    - 12 eggs cost 1.5456 \n",
    "    - 12 eggs cost 1.546 \n",
    "    - 12 eggs cost 1.55 \n",
    "    \n",
    "  Don't forget to use new lines!"
   ]
  },
  {
   "cell_type": "code",
   "execution_count": 2,
   "metadata": {},
   "outputs": [],
   "source": []
  },
  {
   "cell_type": "code",
   "execution_count": null,
   "metadata": {},
   "outputs": [],
   "source": []
  },
  {
   "cell_type": "code",
   "execution_count": null,
   "metadata": {},
   "outputs": [],
   "source": []
  },
  {
   "cell_type": "markdown",
   "metadata": {},
   "source": [
    "### 2.  Use the appropriate numpy functions to make a 3 by 3 numpy array that has all multiples of 3 from 3 up to and including 27. \n",
    "- Print the data from the second column. \n",
    "- Print the data from the third line.\n",
    "- Use the appropriate numpy function to save the data into file \"three_by_three.dat \" and format it as integers\n",
    "- Save the data as a csv file into file \"three_by_three.csv\" using \n",
    "        1) the csv.writer() and \n",
    "        2) pandas dataframe"
   ]
  },
  {
   "cell_type": "code",
   "execution_count": 124,
   "metadata": {},
   "outputs": [],
   "source": []
  },
  {
   "cell_type": "code",
   "execution_count": null,
   "metadata": {},
   "outputs": [],
   "source": []
  },
  {
   "cell_type": "code",
   "execution_count": 128,
   "metadata": {},
   "outputs": [],
   "source": []
  },
  {
   "cell_type": "code",
   "execution_count": 130,
   "metadata": {},
   "outputs": [],
   "source": []
  },
  {
   "cell_type": "code",
   "execution_count": 135,
   "metadata": {},
   "outputs": [],
   "source": []
  },
  {
   "cell_type": "code",
   "execution_count": null,
   "metadata": {},
   "outputs": [],
   "source": []
  },
  {
   "cell_type": "code",
   "execution_count": null,
   "metadata": {},
   "outputs": [],
   "source": []
  },
  {
   "cell_type": "markdown",
   "metadata": {},
   "source": [
    "### 3. Let's reuse functions! Make a code that scans the book 'Emma.txt' and prints out the shortest and longest word. Skip the first 250 lines of Emma.txt. \n",
    "- Which function that we have built before will you use? Do you need to make any changes to it? Why/why not?\n"
   ]
  },
  {
   "cell_type": "code",
   "execution_count": 136,
   "metadata": {},
   "outputs": [],
   "source": [
    "def min_max_words( input_string ):\n",
    "    \"\"\"Takes a string and returns a tuple with the shortest and longest words.\n",
    "    Input: a string\n",
    "    Output: (shortest word, longest word) \"\"\"\n",
    "\n",
    "    q = input_string.split()\n",
    "    \n",
    "    shortest =  q[ 0 ]\n",
    "    longest  =  q[ 0 ]\n",
    "    \n",
    "    \n",
    "    for word in q:\n",
    "        if len( word ) < len( shortest ):\n",
    "            shortest = word\n",
    "            \n",
    "        if len( word ) > len( longest ):\n",
    "            longest  = word\n",
    "    \n",
    "    return (shortest, longest )\n"
   ]
  },
  {
   "cell_type": "code",
   "execution_count": 143,
   "metadata": {},
   "outputs": [],
   "source": []
  },
  {
   "cell_type": "code",
   "execution_count": null,
   "metadata": {},
   "outputs": [],
   "source": []
  },
  {
   "cell_type": "code",
   "execution_count": null,
   "metadata": {},
   "outputs": [],
   "source": []
  },
  {
   "cell_type": "markdown",
   "metadata": {},
   "source": [
    "### 4. You are given the data from file *spectrum.dat*.  They contain the albedo (reflectivity) of a surface as a function of wavelength.\n",
    "\n",
    "- Read it in variable *my_spec* using the open() function. \n",
    "- Then read in in variables *my_spec_wav* and *my_spec_A* using the *with open* method.\n",
    "- Finally, read it in variable *my_spec_np* using your prefered numpy function. Assign the data to variables *my_spec_np_wav* and *my_spec_np_A*\n",
    "\n",
    "- Plot the reflectivity of the surface to see it (you can use either *my_spec_* * or *my_spec_np*).\n",
    "- Assume there was an error in the database and for wavelengths 0.3 to 0.35 the reflectivity needs to be lowered by 3%. Do it using the data in *my_spec_* * and then in *my_spec_np_* *. Which is easier? Why? What does this mean for reading data?"
   ]
  },
  {
   "cell_type": "code",
   "execution_count": 36,
   "metadata": {},
   "outputs": [],
   "source": [
    "f = open( 'spectrum.dat','r')\n",
    "my_spec = f.read()\n",
    "f.close()"
   ]
  },
  {
   "cell_type": "code",
   "execution_count": 38,
   "metadata": {},
   "outputs": [
    {
     "name": "stdout",
     "output_type": "stream",
     "text": [
      "0\n"
     ]
    }
   ],
   "source": []
  },
  {
   "cell_type": "code",
   "execution_count": null,
   "metadata": {},
   "outputs": [],
   "source": [
    "#let's see how our data looks like:\n",
    "#print( my_spec[0] ) #-->string"
   ]
  },
  {
   "cell_type": "code",
   "execution_count": 97,
   "metadata": {},
   "outputs": [],
   "source": [
    "#what is it that we are looking at here? \n",
    "type( my_spec )"
   ]
  },
  {
   "cell_type": "code",
   "execution_count": 41,
   "metadata": {},
   "outputs": [],
   "source": [
    "# can I access part of it and split it in lists?\n",
    "# OK, let's split it further:\n",
    "my_spec_split = my_spec.split('\\n')\n",
    "#print(my_spec_split)"
   ]
  },
  {
   "cell_type": "code",
   "execution_count": 49,
   "metadata": {},
   "outputs": [],
   "source": [
    "wavs_open = []\n",
    "A_open    = []\n",
    "\n",
    "for i in range( len( my_spec_split)-1 ):\n",
    "    q = my_spec_split[ i ].split()\n",
    "    wavs_open.append( float(q[ 0 ]) )\n",
    "    A_open.append( float(q[ 1 ]) )"
   ]
  },
  {
   "cell_type": "code",
   "execution_count": 50,
   "metadata": {},
   "outputs": [],
   "source": [
    "#and if you want to use them as arrays:\n",
    "wavs_open_arr = np.array( wavs_open )\n",
    "A_open_arr = np.array( A_open )"
   ]
  },
  {
   "cell_type": "code",
   "execution_count": null,
   "metadata": {},
   "outputs": [],
   "source": []
  },
  {
   "cell_type": "code",
   "execution_count": 44,
   "metadata": {},
   "outputs": [],
   "source": [
    "#OR:\n",
    "my_spec_split_more = my_spec.split( )"
   ]
  },
  {
   "cell_type": "code",
   "execution_count": 45,
   "metadata": {},
   "outputs": [],
   "source": [
    "wavs_open_method = my_spec_split_more[ 0: : 2 ]\n",
    "A_open_method = my_spec_split_more[ 1: : 2 ]"
   ]
  },
  {
   "cell_type": "code",
   "execution_count": null,
   "metadata": {},
   "outputs": [],
   "source": []
  },
  {
   "cell_type": "code",
   "execution_count": null,
   "metadata": {},
   "outputs": [],
   "source": []
  },
  {
   "cell_type": "code",
   "execution_count": null,
   "metadata": {},
   "outputs": [],
   "source": []
  },
  {
   "cell_type": "code",
   "execution_count": null,
   "metadata": {},
   "outputs": [],
   "source": []
  },
  {
   "cell_type": "code",
   "execution_count": 33,
   "metadata": {},
   "outputs": [],
   "source": [
    "#for contrast:\n",
    "my_data_np = np.loadtxt('spectrum.dat')\n"
   ]
  },
  {
   "cell_type": "code",
   "execution_count": 40,
   "metadata": {},
   "outputs": [
    {
     "name": "stdout",
     "output_type": "stream",
     "text": [
      "[0.3     0.04948]\n"
     ]
    }
   ],
   "source": [
    "print( my_data_np[0,: ] )"
   ]
  },
  {
   "cell_type": "code",
   "execution_count": 53,
   "metadata": {},
   "outputs": [],
   "source": [
    "wav_np = my_data_np[ :, 0]"
   ]
  },
  {
   "cell_type": "code",
   "execution_count": null,
   "metadata": {},
   "outputs": [],
   "source": [
    "#done!"
   ]
  },
  {
   "cell_type": "code",
   "execution_count": null,
   "metadata": {},
   "outputs": [],
   "source": []
  },
  {
   "cell_type": "code",
   "execution_count": 103,
   "metadata": {},
   "outputs": [],
   "source": []
  },
  {
   "cell_type": "code",
   "execution_count": null,
   "metadata": {},
   "outputs": [],
   "source": []
  },
  {
   "cell_type": "code",
   "execution_count": 105,
   "metadata": {},
   "outputs": [],
   "source": []
  },
  {
   "cell_type": "code",
   "execution_count": null,
   "metadata": {},
   "outputs": [],
   "source": []
  },
  {
   "cell_type": "code",
   "execution_count": 106,
   "metadata": {},
   "outputs": [],
   "source": []
  },
  {
   "cell_type": "code",
   "execution_count": null,
   "metadata": {},
   "outputs": [],
   "source": []
  },
  {
   "cell_type": "code",
   "execution_count": 1,
   "metadata": {},
   "outputs": [],
   "source": []
  },
  {
   "cell_type": "code",
   "execution_count": null,
   "metadata": {},
   "outputs": [],
   "source": []
  },
  {
   "cell_type": "code",
   "execution_count": null,
   "metadata": {},
   "outputs": [],
   "source": []
  },
  {
   "cell_type": "code",
   "execution_count": null,
   "metadata": {},
   "outputs": [],
   "source": []
  },
  {
   "cell_type": "code",
   "execution_count": 109,
   "metadata": {},
   "outputs": [],
   "source": []
  },
  {
   "cell_type": "code",
   "execution_count": null,
   "metadata": {},
   "outputs": [],
   "source": []
  },
  {
   "cell_type": "code",
   "execution_count": null,
   "metadata": {},
   "outputs": [],
   "source": []
  },
  {
   "cell_type": "code",
   "execution_count": null,
   "metadata": {},
   "outputs": [],
   "source": []
  },
  {
   "cell_type": "code",
   "execution_count": 113,
   "metadata": {},
   "outputs": [],
   "source": []
  },
  {
   "cell_type": "code",
   "execution_count": null,
   "metadata": {},
   "outputs": [],
   "source": []
  },
  {
   "cell_type": "code",
   "execution_count": null,
   "metadata": {},
   "outputs": [],
   "source": []
  },
  {
   "cell_type": "code",
   "execution_count": null,
   "metadata": {},
   "outputs": [],
   "source": []
  },
  {
   "cell_type": "code",
   "execution_count": null,
   "metadata": {},
   "outputs": [],
   "source": []
  },
  {
   "cell_type": "markdown",
   "metadata": {},
   "source": [
    "### 7. Open the pickle readin_pickle.pickle and read it into variable *check_data*. What is the nature of your data? Find the indices of the elements that are <0."
   ]
  },
  {
   "cell_type": "code",
   "execution_count": 188,
   "metadata": {},
   "outputs": [],
   "source": []
  },
  {
   "cell_type": "code",
   "execution_count": null,
   "metadata": {},
   "outputs": [],
   "source": [
    "\n"
   ]
  },
  {
   "cell_type": "code",
   "execution_count": null,
   "metadata": {},
   "outputs": [],
   "source": []
  },
  {
   "cell_type": "code",
   "execution_count": null,
   "metadata": {},
   "outputs": [],
   "source": []
  },
  {
   "cell_type": "code",
   "execution_count": null,
   "metadata": {},
   "outputs": [],
   "source": []
  },
  {
   "cell_type": "code",
   "execution_count": null,
   "metadata": {},
   "outputs": [],
   "source": []
  },
  {
   "cell_type": "code",
   "execution_count": null,
   "metadata": {},
   "outputs": [],
   "source": []
  },
  {
   "cell_type": "code",
   "execution_count": null,
   "metadata": {},
   "outputs": [],
   "source": []
  },
  {
   "cell_type": "code",
   "execution_count": null,
   "metadata": {},
   "outputs": [],
   "source": []
  },
  {
   "cell_type": "code",
   "execution_count": null,
   "metadata": {},
   "outputs": [],
   "source": []
  },
  {
   "cell_type": "code",
   "execution_count": null,
   "metadata": {},
   "outputs": [],
   "source": []
  }
 ],
 "metadata": {
  "kernelspec": {
   "display_name": "Python 3",
   "language": "python",
   "name": "python3"
  },
  "language_info": {
   "codemirror_mode": {
    "name": "ipython",
    "version": 3
   },
   "file_extension": ".py",
   "mimetype": "text/x-python",
   "name": "python",
   "nbconvert_exporter": "python",
   "pygments_lexer": "ipython3",
   "version": "3.7.6"
  }
 },
 "nbformat": 4,
 "nbformat_minor": 5
}
