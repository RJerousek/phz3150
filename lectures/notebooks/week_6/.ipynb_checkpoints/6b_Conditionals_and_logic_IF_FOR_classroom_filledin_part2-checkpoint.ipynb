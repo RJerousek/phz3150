{
 "cells": [
  {
   "cell_type": "markdown",
   "metadata": {},
   "source": [
    "# FOR - IF "
   ]
  },
  {
   "cell_type": "code",
   "execution_count": 1,
   "metadata": {},
   "outputs": [],
   "source": [
    "import numpy as np"
   ]
  },
  {
   "cell_type": "markdown",
   "metadata": {},
   "source": [
    "# FOR == repetitive tasks\n",
    "# IF     == conditional tasks"
   ]
  },
  {
   "cell_type": "code",
   "execution_count": null,
   "metadata": {},
   "outputs": [],
   "source": []
  },
  {
   "cell_type": "markdown",
   "metadata": {},
   "source": [
    "### We already saw that numpy can do some 'repetitive' things faster. Do you remember examples?\n",
    "### In some cases though, numpy is not an option (e.g., lists, tuples, etc)"
   ]
  },
  {
   "cell_type": "code",
   "execution_count": null,
   "metadata": {},
   "outputs": [],
   "source": []
  },
  {
   "cell_type": "markdown",
   "metadata": {},
   "source": [
    "# FOR\n",
    "\n",
    "### A for loop is iterating over a parameter (e.g. i) to do a specific thing.\n",
    "\n",
    "In Fortran (first language to introduce for loops, but they are called “DO”) you would have:\n",
    "\n",
    "    DO i = 1, 10\n",
    "          print*, i\n",
    "\n",
    "In Python:  <br>\n",
    "\n",
    "    for i in 1, 2, 3,....,10 : \n",
    "        print(i)\n",
    "\n"
   ]
  },
  {
   "cell_type": "markdown",
   "metadata": {},
   "source": [
    "<img src=\"for_loop.png\" width=600 height=600 />"
   ]
  },
  {
   "cell_type": "markdown",
   "metadata": {},
   "source": [
    "### let's see a first (obvious) example of FOR in action:"
   ]
  },
  {
   "cell_type": "code",
   "execution_count": 2,
   "metadata": {},
   "outputs": [
    {
     "name": "stdout",
     "output_type": "stream",
     "text": [
      "0\n",
      "1\n",
      "2\n",
      "3\n",
      "4\n",
      "5\n",
      "6\n",
      "7\n",
      "8\n",
      "9\n"
     ]
    }
   ],
   "source": [
    "for i in range( 10 ):\n",
    "    print( i )"
   ]
  },
  {
   "cell_type": "code",
   "execution_count": 3,
   "metadata": {},
   "outputs": [
    {
     "name": "stdout",
     "output_type": "stream",
     "text": [
      "0\n",
      "1\n",
      "2\n",
      "3\n",
      "4\n",
      "5\n",
      "6\n",
      "7\n",
      "8\n",
      "9\n"
     ]
    }
   ],
   "source": [
    "for i in np.arange( 10 ):\n",
    "    print( i )"
   ]
  },
  {
   "cell_type": "code",
   "execution_count": 4,
   "metadata": {},
   "outputs": [
    {
     "name": "stdout",
     "output_type": "stream",
     "text": [
      "[0 1 2 3 4 5 6 7 8 9]\n"
     ]
    }
   ],
   "source": [
    "print( np.arange( 10 ) )"
   ]
  },
  {
   "cell_type": "code",
   "execution_count": null,
   "metadata": {},
   "outputs": [],
   "source": []
  },
  {
   "cell_type": "markdown",
   "metadata": {},
   "source": [
    "### The element over which you iterate can be a list/tuple/array..:"
   ]
  },
  {
   "cell_type": "code",
   "execution_count": 5,
   "metadata": {},
   "outputs": [
    {
     "name": "stdout",
     "output_type": "stream",
     "text": [
      "1 2\n",
      "3 4\n",
      "jane joe\n"
     ]
    }
   ],
   "source": [
    "for a, b in (1, 2), [3, 4], ('jane', 'joe'):\n",
    "      print( a, b )\n"
   ]
  },
  {
   "cell_type": "code",
   "execution_count": 6,
   "metadata": {},
   "outputs": [
    {
     "name": "stdout",
     "output_type": "stream",
     "text": [
      "Current Letter : P\n",
      "Current Letter : y\n",
      "Current Letter : t\n",
      "Current Letter : h\n",
      "Current Letter : o\n",
      "Current Letter : n\n"
     ]
    }
   ],
   "source": [
    "for ch in 'Python': \n",
    "      print ( 'Current Letter :', ch )"
   ]
  },
  {
   "cell_type": "code",
   "execution_count": 7,
   "metadata": {},
   "outputs": [
    {
     "name": "stdout",
     "output_type": "stream",
     "text": [
      "1\n",
      "3\n",
      "5\n",
      "7\n",
      "9\n"
     ]
    }
   ],
   "source": [
    "for num in np.arange(1, 10, 2 ):\n",
    "     print( num )"
   ]
  },
  {
   "cell_type": "code",
   "execution_count": 8,
   "metadata": {},
   "outputs": [
    {
     "name": "stdout",
     "output_type": "stream",
     "text": [
      "1\n",
      "4\n",
      "8\n"
     ]
    }
   ],
   "source": [
    "data = np.array( [1, 4, 8 ] )\n",
    "\n",
    "for j in data:\n",
    "    print( j )"
   ]
  },
  {
   "cell_type": "code",
   "execution_count": null,
   "metadata": {},
   "outputs": [],
   "source": []
  },
  {
   "cell_type": "code",
   "execution_count": null,
   "metadata": {},
   "outputs": [],
   "source": []
  },
  {
   "cell_type": "markdown",
   "metadata": {},
   "source": [
    "### How do we know if we are meant to use a FOR loop?"
   ]
  },
  {
   "cell_type": "code",
   "execution_count": null,
   "metadata": {},
   "outputs": [],
   "source": []
  },
  {
   "cell_type": "markdown",
   "metadata": {},
   "source": [
    "<img src=\"for_loop_flowchart.png\" width=600 height=500 />\n"
   ]
  },
  {
   "cell_type": "markdown",
   "metadata": {},
   "source": [
    "### Example 1: What colors is a rainbow made of? Make a list ***rainbow_colors*** that has the names of the rainbow colors. Print an informative statement that the colors of the rainbow are....and print them in order from top (outside of the circle) to bottom. Print the colors of a secondary rainbow in order.\n",
    "\n",
    "- Discuss: is this something we can do with numpy? would a FOR loop be appropriate? \n",
    "- Discuss: how do we code this up?"
   ]
  },
  {
   "cell_type": "code",
   "execution_count": 9,
   "metadata": {},
   "outputs": [],
   "source": [
    "#make list of rainbow colors\n",
    "rainbow_colors = [ 'red', 'orange', 'yellow', 'green', 'blue', 'indigo', 'violet' ]"
   ]
  },
  {
   "cell_type": "code",
   "execution_count": 10,
   "metadata": {},
   "outputs": [
    {
     "name": "stdout",
     "output_type": "stream",
     "text": [
      "red\n",
      "orange\n",
      "yellow\n",
      "green\n",
      "blue\n",
      "indigo\n",
      "violet\n"
     ]
    }
   ],
   "source": [
    "#print the colors of the rainbow in order\n",
    "\n",
    "for color in rainbow_colors:\n",
    "    print( color )"
   ]
  },
  {
   "cell_type": "code",
   "execution_count": 11,
   "metadata": {},
   "outputs": [
    {
     "name": "stdout",
     "output_type": "stream",
     "text": [
      "red\n",
      "orange\n",
      "yellow\n",
      "green\n",
      "blue\n",
      "indigo\n",
      "violet\n"
     ]
    }
   ],
   "source": [
    "for c in range( len( rainbow_colors ) ):\n",
    "    print( rainbow_colors[ c ] )"
   ]
  },
  {
   "cell_type": "code",
   "execution_count": null,
   "metadata": {},
   "outputs": [],
   "source": [
    "#print the colors of the secondary rainbow"
   ]
  },
  {
   "cell_type": "code",
   "execution_count": 12,
   "metadata": {},
   "outputs": [
    {
     "name": "stdout",
     "output_type": "stream",
     "text": [
      "violet\n",
      "indigo\n",
      "blue\n",
      "green\n",
      "yellow\n",
      "orange\n",
      "red\n"
     ]
    }
   ],
   "source": [
    "for color in rainbow_colors[::-1]:\n",
    "    print( color )"
   ]
  },
  {
   "cell_type": "code",
   "execution_count": 13,
   "metadata": {},
   "outputs": [
    {
     "name": "stdout",
     "output_type": "stream",
     "text": [
      "violet\n",
      "indigo\n",
      "blue\n",
      "green\n",
      "yellow\n",
      "orange\n",
      "red\n"
     ]
    }
   ],
   "source": [
    "for c in range( len( rainbow_colors ) ):\n",
    "    print( rainbow_colors[ len( rainbow_colors )-1 - c ] )"
   ]
  },
  {
   "cell_type": "markdown",
   "metadata": {},
   "source": [
    "### When working with an array and you are not sure about its size you can iterate over the length of the array:\n",
    "    for i in range( len(your_array) ): \n",
    "         do_something_with_the_array\n"
   ]
  },
  {
   "cell_type": "code",
   "execution_count": 14,
   "metadata": {},
   "outputs": [],
   "source": [
    "#### e.g., make a numpy array x with numbers 5, 12, 15, 16, 22, 42, 32, 88, 104:\n",
    "\n",
    "x =  np.array( [ 5, 12, 15, 16, 22, 42, 32, 88, 104] )"
   ]
  },
  {
   "cell_type": "markdown",
   "metadata": {},
   "source": [
    "### Now, let's test difference of:"
   ]
  },
  {
   "cell_type": "code",
   "execution_count": 15,
   "metadata": {},
   "outputs": [
    {
     "name": "stdout",
     "output_type": "stream",
     "text": [
      "5\n",
      "12\n",
      "15\n",
      "16\n",
      "22\n",
      "42\n",
      "32\n",
      "88\n",
      "104\n"
     ]
    }
   ],
   "source": [
    "for i in x:\n",
    "    print( i )"
   ]
  },
  {
   "cell_type": "markdown",
   "metadata": {},
   "source": [
    "### with this:"
   ]
  },
  {
   "cell_type": "code",
   "execution_count": 16,
   "metadata": {},
   "outputs": [
    {
     "name": "stdout",
     "output_type": "stream",
     "text": [
      "9\n"
     ]
    }
   ],
   "source": [
    "print( len(x) )"
   ]
  },
  {
   "cell_type": "code",
   "execution_count": 17,
   "metadata": {},
   "outputs": [
    {
     "name": "stdout",
     "output_type": "stream",
     "text": [
      "0 5\n",
      "1 12\n",
      "2 15\n",
      "3 16\n",
      "4 22\n",
      "5 42\n",
      "6 32\n",
      "7 88\n",
      "8 104\n"
     ]
    }
   ],
   "source": [
    "for i in range( len( x ) ):\n",
    "    print( i , x[ i ] )"
   ]
  },
  {
   "cell_type": "code",
   "execution_count": null,
   "metadata": {},
   "outputs": [],
   "source": []
  },
  {
   "cell_type": "markdown",
   "metadata": {},
   "source": [
    "### when would you use the first and when the second case?"
   ]
  },
  {
   "cell_type": "code",
   "execution_count": null,
   "metadata": {},
   "outputs": [],
   "source": []
  },
  {
   "cell_type": "markdown",
   "metadata": {},
   "source": [
    "### Example 2: You are given the numpy array data1 below. You need to make an array data2 whose elements are equal to the square root of the elements of data1, and an array data3 whose elements are equal to the elements of data1 to the power of 1.5. \n",
    "\n",
    "- Discuss: how will you do this? Is it something you can do with numpy or a FOR loop?\n",
    "- How do you code this up? If you use a FOR loop, are there things you need to keep in mind?"
   ]
  },
  {
   "cell_type": "code",
   "execution_count": 18,
   "metadata": {},
   "outputs": [],
   "source": [
    "data1 = np.array( [ 1, 2, 2, 4 , 8, 32 ] )"
   ]
  },
  {
   "cell_type": "code",
   "execution_count": 19,
   "metadata": {},
   "outputs": [
    {
     "name": "stdout",
     "output_type": "stream",
     "text": [
      "CPU times: user 42 µs, sys: 9 µs, total: 51 µs\n",
      "Wall time: 55.1 µs\n"
     ]
    }
   ],
   "source": [
    "%%time\n",
    "\n",
    "data2_np = np.sqrt( data1 )\n",
    "data3_np = data1**1.5"
   ]
  },
  {
   "cell_type": "code",
   "execution_count": 20,
   "metadata": {},
   "outputs": [
    {
     "name": "stdout",
     "output_type": "stream",
     "text": [
      "CPU times: user 83 µs, sys: 8 µs, total: 91 µs\n",
      "Wall time: 93.9 µs\n"
     ]
    }
   ],
   "source": [
    "%%time\n",
    "data2 = np.zeros( 6 )\n",
    "data3 = np.zeros( 6 )\n",
    "\n",
    "for j in range( 6 ):\n",
    "    data2[ j ] = np.sqrt( data1[ j ] )\n",
    "    data3[ j ] = data1[ j ] ** 1.5 \n"
   ]
  },
  {
   "cell_type": "code",
   "execution_count": null,
   "metadata": {},
   "outputs": [],
   "source": []
  },
  {
   "cell_type": "markdown",
   "metadata": {},
   "source": [
    "### Example 3: use a FOR loop to get array q2_numpy that is the square of the array  q_numpy = np.arange( 0, 10000, 0.0005). How else can you do that? Which way is faster?"
   ]
  },
  {
   "cell_type": "code",
   "execution_count": 21,
   "metadata": {},
   "outputs": [],
   "source": [
    "q_numpy = np.arange( 0, 10000, 0.0005)\n",
    "q2_numpy = np.zeros( len( q_numpy ) )"
   ]
  },
  {
   "cell_type": "code",
   "execution_count": 22,
   "metadata": {},
   "outputs": [
    {
     "name": "stdout",
     "output_type": "stream",
     "text": [
      "CPU times: user 50 ms, sys: 60 ms, total: 110 ms\n",
      "Wall time: 154 ms\n"
     ]
    }
   ],
   "source": [
    "%%time\n",
    "q2_n = q_numpy**2\n",
    "    "
   ]
  },
  {
   "cell_type": "code",
   "execution_count": 23,
   "metadata": {},
   "outputs": [
    {
     "name": "stdout",
     "output_type": "stream",
     "text": [
      "CPU times: user 7.97 s, sys: 124 ms, total: 8.1 s\n",
      "Wall time: 8.22 s\n"
     ]
    }
   ],
   "source": [
    "%%time\n",
    "for n in range( len( q_numpy ) ):\n",
    "    q2_numpy[ n ] = q_numpy[ n ] **2 \n",
    "\n"
   ]
  },
  {
   "cell_type": "markdown",
   "metadata": {},
   "source": [
    "### Don’t use FOR loops like this for arrays, too slow. That’s why we have numpy!"
   ]
  },
  {
   "cell_type": "code",
   "execution_count": null,
   "metadata": {},
   "outputs": [],
   "source": []
  },
  {
   "cell_type": "markdown",
   "metadata": {},
   "source": [
    "### We can do multiple things in a single FOR loop. \n",
    "\n",
    "### For example:"
   ]
  },
  {
   "cell_type": "code",
   "execution_count": 24,
   "metadata": {},
   "outputs": [
    {
     "name": "stdout",
     "output_type": "stream",
     "text": [
      "With acceleration: 14.0 m/s^2 moved 52.0 m\n",
      "With acceleration: 15.0 m/s^2 moved 280.0 m\n",
      "With acceleration: 1.7377049180327868 m/s^2 moved 25132.0 m\n",
      "With acceleration: -8.142857142857142 m/s^2 moved 5544.0 m\n",
      "With acceleration: 11.056603773584905 m/s^2 moved 19981.0 m\n",
      "With acceleration: -43.857142857142854 m/s^2 moved 5082.0 m\n",
      "With acceleration: 1.2340425531914894 m/s^2 moved 3995.0 m\n",
      "With acceleration: -0.40540540540540543 m/s^2 moved 3940.5 m\n",
      "With acceleration: 1.5 m/s^2 moved 1533.0 m\n",
      "Total displacement: 65539.5 m\n"
     ]
    }
   ],
   "source": [
    "#create the acceleration and displacement arrays:\n",
    "a = np.zeros(10)\n",
    "d = np.zeros(10)\n",
    "\n",
    "# make a random speed array:\n",
    "speed = np.array( [12, 40, 100, 312, 84, 670, 56, 114, 99, 120 ] )\n",
    "# and a time array:\n",
    "time  = np.array( [12, 14, 18, 140, 168, 221, 235, 282, 319, 333] )\n",
    "\n",
    "\n",
    "# for this we' ll need the accelaration and displacement function; let's import them:\n",
    "from accelerations import acceleration     #check that you have them in the same file!\n",
    "from displacements import displacement\n",
    "\n",
    "\n",
    "#make a for loop that goes through the speed and time arrays and print \n",
    "#the total displacement:\n",
    "for i in range( 0, 9 ):\n",
    "    # make an initial speed: \n",
    "    uin      = speed[ i ]\n",
    "    \n",
    "    # calculate the acceleration calling your acceleration function  \n",
    "    a[ i ]   = acceleration( speed[ i ], speed[ i+1 ], time[ i ], time[ i+1 ] )\n",
    "    \n",
    "    # calculate the displacement calling your displacement function \n",
    "    d[ i ]   = displacement( uin, time[ i+1 ] - time[ i ], a[ i ] )\n",
    "    \n",
    "    # print the,:\n",
    "    print ('With acceleration:',a[i],'m/s^2 moved',d[i], 'm')\n",
    "    \n",
    "#Print total displacment:    \n",
    "\n",
    "print('Total displacement:',np.sum(d),'m') \n"
   ]
  },
  {
   "cell_type": "code",
   "execution_count": null,
   "metadata": {},
   "outputs": [],
   "source": []
  },
  {
   "cell_type": "code",
   "execution_count": null,
   "metadata": {},
   "outputs": [],
   "source": []
  },
  {
   "cell_type": "code",
   "execution_count": null,
   "metadata": {},
   "outputs": [],
   "source": []
  },
  {
   "cell_type": "code",
   "execution_count": null,
   "metadata": {},
   "outputs": [],
   "source": []
  },
  {
   "cell_type": "markdown",
   "metadata": {},
   "source": [
    "### Let's do some for loop practice. \n",
    "\n",
    "### Example 4: Create an array time that goes from 1 to 11 with a step of 1. Make a for loop that scans the array and prints its value (use t as your looping variable).\n"
   ]
  },
  {
   "cell_type": "code",
   "execution_count": 25,
   "metadata": {},
   "outputs": [
    {
     "name": "stdout",
     "output_type": "stream",
     "text": [
      "[ 1  2  3  4  5  6  7  8  9 10]\n"
     ]
    }
   ],
   "source": [
    "time = np.arange( 1, 11 )\n",
    "\n",
    "print( time )"
   ]
  },
  {
   "cell_type": "code",
   "execution_count": 26,
   "metadata": {},
   "outputs": [
    {
     "name": "stdout",
     "output_type": "stream",
     "text": [
      "1\n",
      "2\n",
      "3\n",
      "4\n",
      "5\n",
      "6\n",
      "7\n",
      "8\n",
      "9\n",
      "10\n"
     ]
    }
   ],
   "source": [
    "for t in time:\n",
    "    print( t )"
   ]
  },
  {
   "cell_type": "code",
   "execution_count": 27,
   "metadata": {},
   "outputs": [
    {
     "name": "stdout",
     "output_type": "stream",
     "text": [
      "1\n",
      "2\n",
      "3\n",
      "4\n",
      "5\n",
      "6\n",
      "7\n",
      "8\n",
      "9\n",
      "10\n"
     ]
    }
   ],
   "source": [
    "for t in range(  10 ): # instead of 10 ( len( time ) )\n",
    "    print( time[ t ] )"
   ]
  },
  {
   "cell_type": "code",
   "execution_count": null,
   "metadata": {},
   "outputs": [],
   "source": []
  },
  {
   "cell_type": "code",
   "execution_count": null,
   "metadata": {},
   "outputs": [],
   "source": []
  },
  {
   "cell_type": "code",
   "execution_count": null,
   "metadata": {},
   "outputs": [],
   "source": []
  },
  {
   "cell_type": "markdown",
   "metadata": {},
   "source": [
    "### Example 5: Create an array distance that goes from 10 to 20 with a step of 1. Make a for loop that scans the array and prints the speed of the object using the time stamps from above, but in reverse order (so distance[0] will go with time[ 9 ]).\n",
    "\n",
    "- Discuss: how will the code loop over the distance array?\n",
    "- how will the code reverse the time stamp array order?\n",
    "- code it up!"
   ]
  },
  {
   "cell_type": "code",
   "execution_count": 28,
   "metadata": {},
   "outputs": [],
   "source": [
    "distance = np.arange( 10, 20 )"
   ]
  },
  {
   "cell_type": "code",
   "execution_count": 29,
   "metadata": {},
   "outputs": [
    {
     "name": "stdout",
     "output_type": "stream",
     "text": [
      "[ 1  2  3  4  5  6  7  8  9 10]\n",
      "[10 11 12 13 14 15 16 17 18 19]\n"
     ]
    }
   ],
   "source": [
    "print( time )\n",
    "print( distance )"
   ]
  },
  {
   "cell_type": "code",
   "execution_count": 32,
   "metadata": {},
   "outputs": [
    {
     "name": "stdout",
     "output_type": "stream",
     "text": [
      "1.0\n",
      "1.2222222222222223\n",
      "1.5\n",
      "1.8571428571428572\n",
      "2.3333333333333335\n",
      "3.0\n",
      "4.0\n",
      "5.666666666666667\n",
      "9.0\n",
      "19.0\n"
     ]
    }
   ],
   "source": [
    "for t in range( len ( time) ) :\n",
    "#    print( distance [ t ] / time[ 9- t ]  )\n",
    "    print( distance [ t ] / time[ (len(time) -1) - t ]  )"
   ]
  },
  {
   "cell_type": "code",
   "execution_count": 31,
   "metadata": {},
   "outputs": [
    {
     "data": {
      "text/plain": [
       "10"
      ]
     },
     "execution_count": 31,
     "metadata": {},
     "output_type": "execute_result"
    }
   ],
   "source": [
    "#len( time )"
   ]
  },
  {
   "cell_type": "markdown",
   "metadata": {},
   "source": [
    "### Example 6: let's bring FOR loops in 2D! \n",
    "\n",
    "### Create a 2D array speed with dimensions equal to the length of time and distance. Create a nested for loop (for loop in for loop)  that scans over i and j and assigns a value to speed for every time and distance.\n",
    "\n",
    "- Discuss: how do we make a nested loop? \n",
    "- what can go wrong with a nested loop?\n",
    "- code it up!"
   ]
  },
  {
   "cell_type": "code",
   "execution_count": null,
   "metadata": {},
   "outputs": [],
   "source": []
  },
  {
   "cell_type": "code",
   "execution_count": null,
   "metadata": {},
   "outputs": [],
   "source": []
  },
  {
   "cell_type": "code",
   "execution_count": null,
   "metadata": {},
   "outputs": [],
   "source": []
  },
  {
   "cell_type": "code",
   "execution_count": null,
   "metadata": {},
   "outputs": [],
   "source": []
  },
  {
   "cell_type": "code",
   "execution_count": null,
   "metadata": {},
   "outputs": [],
   "source": [
    "# could you have done it as:\n",
    "\n",
    "for i in time  : \n",
    "    for j in distance :\n",
    "        \n",
    "         print( j / i )   # ??? why/ why not? "
   ]
  },
  {
   "cell_type": "code",
   "execution_count": null,
   "metadata": {},
   "outputs": [],
   "source": []
  },
  {
   "cell_type": "code",
   "execution_count": null,
   "metadata": {},
   "outputs": [],
   "source": []
  },
  {
   "cell_type": "code",
   "execution_count": null,
   "metadata": {},
   "outputs": [],
   "source": [
    "# how could it have worked?"
   ]
  },
  {
   "cell_type": "code",
   "execution_count": null,
   "metadata": {},
   "outputs": [],
   "source": []
  },
  {
   "cell_type": "code",
   "execution_count": null,
   "metadata": {},
   "outputs": [],
   "source": []
  },
  {
   "cell_type": "code",
   "execution_count": null,
   "metadata": {},
   "outputs": [],
   "source": []
  },
  {
   "cell_type": "markdown",
   "metadata": {},
   "source": [
    "## Note that indentation is SUPER important for Python"
   ]
  },
  {
   "cell_type": "code",
   "execution_count": null,
   "metadata": {},
   "outputs": [],
   "source": []
  },
  {
   "cell_type": "code",
   "execution_count": null,
   "metadata": {},
   "outputs": [],
   "source": [
    "#create the speed array:\n",
    "#a = np.zeros( ( len( time ), len( distance ) ) )\n",
    "\n",
    "#create a nested for loop:\n",
    "\n",
    "for i in range( 3):\n",
    "    for j in range( 3 ):\n",
    "            \n",
    "            speed[ i, j ] = distance[ j ] / time[ i ] \n",
    "            \n",
    "            print( i, j, time[ i ], distance[ j ], speed[ i, j ] ) "
   ]
  },
  {
   "cell_type": "markdown",
   "metadata": {},
   "source": [
    "## NOTE that same blocks of code (code that needs to be executed at the same level) must have the same indentation! \n",
    "\n",
    "<img src=\"loop_levs.png\" width=800 height=600 />"
   ]
  },
  {
   "cell_type": "markdown",
   "metadata": {},
   "source": [
    "### Try moving the print statement to ”Level 1” or “Level 0”. What happens? Why?\n"
   ]
  },
  {
   "cell_type": "code",
   "execution_count": null,
   "metadata": {},
   "outputs": [],
   "source": [
    "# move to 'level 1':\n",
    "\n",
    "for i in range( 3):\n",
    "    for j in range( 3 ):\n",
    "            \n",
    "            speed[ i, j ] = distance[ j ] / time[ i ] \n",
    "            \n",
    "    print( i, j, time[ i ], distance[ j ], speed[ i, j ] ) \n"
   ]
  },
  {
   "cell_type": "code",
   "execution_count": null,
   "metadata": {},
   "outputs": [],
   "source": [
    "#move to 'level 0':\n",
    "\n",
    "for i in range( 3):\n",
    "    for j in range( 3 ):\n",
    "            \n",
    "            speed[ i, j ] = distance[ j ] / time[ i ] \n",
    "            \n",
    "print( i, j, time[ i ], distance[ j ], speed[ i, j ] ) \n"
   ]
  },
  {
   "cell_type": "code",
   "execution_count": null,
   "metadata": {},
   "outputs": [],
   "source": []
  },
  {
   "cell_type": "markdown",
   "metadata": {},
   "source": [
    "# ------------------------------"
   ]
  },
  {
   "cell_type": "markdown",
   "metadata": {},
   "source": [
    "## IF : Conditional statement that does something *only* IF the condition(s) is met.\n",
    "\n",
    "\n",
    "    if your_conditions_here: \n",
    "        ####------------------------------if true:\n",
    "         do something here\n",
    "        #### <----------------------------if not true it will be skipped/ may do other stuff (see later)"
   ]
  },
  {
   "cell_type": "markdown",
   "metadata": {},
   "source": [
    "### Let's see some examples:"
   ]
  },
  {
   "cell_type": "code",
   "execution_count": 33,
   "metadata": {},
   "outputs": [
    {
     "name": "stdout",
     "output_type": "stream",
     "text": [
      "True!\n"
     ]
    }
   ],
   "source": [
    "x = 5\n",
    "\n",
    "if x < 10:\n",
    "    print( 'True!' )\n"
   ]
  },
  {
   "cell_type": "code",
   "execution_count": 34,
   "metadata": {},
   "outputs": [],
   "source": [
    "x = 12\n",
    "\n",
    "if x < 10:\n",
    "    print ( ' True!' )"
   ]
  },
  {
   "cell_type": "code",
   "execution_count": null,
   "metadata": {},
   "outputs": [],
   "source": []
  },
  {
   "cell_type": "markdown",
   "metadata": {},
   "source": [
    "### Make an array array_1 that goes from 0 to 10 (not including 10!). Then make an if loop that will only print a[i] if a[i] is smaller than 5..."
   ]
  },
  {
   "cell_type": "code",
   "execution_count": 36,
   "metadata": {},
   "outputs": [
    {
     "name": "stdout",
     "output_type": "stream",
     "text": [
      "0\n",
      "1\n",
      "2\n",
      "3\n",
      "4\n"
     ]
    }
   ],
   "source": [
    "#Make array \n",
    "\n",
    "array_1 = np.arange(0, 10)\n",
    "\n",
    "for a in array_1:\n",
    "    \n",
    "    if a < 5:\n",
    "        print( a )\n",
    "\n",
    "\n",
    "# then make an if loop that will only print element if it is smaller than 5...\n"
   ]
  },
  {
   "cell_type": "markdown",
   "metadata": {},
   "source": [
    "### Here we just focused on what happens if element < 5; how can we code it though to do things for alternative conditions?"
   ]
  },
  {
   "cell_type": "markdown",
   "metadata": {},
   "source": [
    "### In this case we need to use the if/ elif/ else structure :\n",
    "\n",
    "<img src=\"../plots/if_elif.png\" width=800 height=600 />"
   ]
  },
  {
   "cell_type": "markdown",
   "metadata": {},
   "source": [
    "### Go back to the previous FOR/IF loop and add a condition that prints “NO” if the element is >= 7,  and a \"??\"   for cases where the element is >=5 and < 7:"
   ]
  },
  {
   "cell_type": "code",
   "execution_count": 38,
   "metadata": {},
   "outputs": [
    {
     "name": "stdout",
     "output_type": "stream",
     "text": [
      "0\n",
      "1\n",
      "2\n",
      "3\n",
      "4\n",
      "?? \n",
      "?? \n",
      "no\n",
      "no\n",
      "no\n"
     ]
    }
   ],
   "source": [
    "#if elif else\n",
    "\n",
    "for a in array_1:\n",
    "    \n",
    "    if a < 5:\n",
    "        print( a )\n",
    "    elif a >=7 :\n",
    "        print( 'no')\n",
    "    else:\n",
    "        print( '?? ')\n",
    "\n"
   ]
  },
  {
   "cell_type": "code",
   "execution_count": null,
   "metadata": {},
   "outputs": [],
   "source": []
  },
  {
   "cell_type": "markdown",
   "metadata": {},
   "source": [
    "### now make the loop print array_1[ i ] if it is < 3 ; array_1[i] * 2 if array_1[i] is >8 and 'NaN' for all other cases:"
   ]
  },
  {
   "cell_type": "code",
   "execution_count": null,
   "metadata": {},
   "outputs": [],
   "source": []
  },
  {
   "cell_type": "code",
   "execution_count": null,
   "metadata": {},
   "outputs": [],
   "source": []
  },
  {
   "cell_type": "markdown",
   "metadata": {},
   "source": [
    "### Example 7: Now let's put FOR/IF in practice with numbers. Make a for loop that will go through numbers 1 to 30 (including 30) and print them out. When it reaches 10, 20 and 30 it will print a blank space.\n",
    "\n",
    "- Discuss: how do we set the FOR loop up? \n",
    "- how do our IF statement(s) need to look like?\n",
    "- code it up!\n"
   ]
  },
  {
   "cell_type": "code",
   "execution_count": 52,
   "metadata": {},
   "outputs": [],
   "source": [
    "nums = np.arange( 1, 31, 1)"
   ]
  },
  {
   "cell_type": "code",
   "execution_count": 53,
   "metadata": {},
   "outputs": [
    {
     "name": "stdout",
     "output_type": "stream",
     "text": [
      "1\n",
      "2\n",
      "3\n",
      "4\n",
      "5\n",
      "6\n",
      "7\n",
      "8\n",
      "9\n",
      "10\n",
      " \n",
      " \n",
      "11\n",
      "12\n",
      "13\n",
      "14\n",
      "15\n",
      "16\n",
      "17\n",
      "18\n",
      "19\n",
      "20\n",
      " \n",
      " \n",
      "21\n",
      "22\n",
      "23\n",
      "24\n",
      "25\n",
      "26\n",
      "27\n",
      "28\n",
      "29\n",
      "30\n",
      " \n",
      " \n"
     ]
    }
   ],
   "source": [
    "for n in nums:\n",
    "    \n",
    "    print( n )\n",
    "    \n",
    "    if ( n == 10 ) or ( n == 20 ) or ( n == 30 ):\n",
    "        print( ' \\n ')\n",
    "    "
   ]
  },
  {
   "cell_type": "code",
   "execution_count": null,
   "metadata": {},
   "outputs": [],
   "source": []
  },
  {
   "cell_type": "code",
   "execution_count": null,
   "metadata": {},
   "outputs": [],
   "source": []
  },
  {
   "cell_type": "code",
   "execution_count": null,
   "metadata": {},
   "outputs": [],
   "source": []
  },
  {
   "cell_type": "code",
   "execution_count": null,
   "metadata": {},
   "outputs": [],
   "source": []
  },
  {
   "cell_type": "markdown",
   "metadata": {},
   "source": [
    "### Concept practice break! "
   ]
  },
  {
   "cell_type": "markdown",
   "metadata": {},
   "source": [
    "### Teach a computer to read! "
   ]
  },
  {
   "cell_type": "markdown",
   "metadata": {},
   "source": [
    "<img src=\"reading_directions.png\" width=600 height=500 />"
   ]
  },
  {
   "cell_type": "markdown",
   "metadata": {},
   "source": [
    "<img src=\"write_1.png\" width=250 height=250 />\n",
    "<img src=\"write_2.png\" width=300 height=250 />"
   ]
  },
  {
   "cell_type": "markdown",
   "metadata": {},
   "source": [
    "<img src=\"write_3.png\" width=100 height=70 />"
   ]
  },
  {
   "cell_type": "markdown",
   "metadata": {},
   "source": [
    "##  \n",
    "- Think about the process you do to read a text in Western languages.  Use FOR and IF to describe the process. \n",
    "- Discuss: how would we 'teach' a computer to read the above texts (start from first one/ then move to next)\n",
    "- could we write a generic code for the computer to read *any* text?"
   ]
  },
  {
   "cell_type": "code",
   "execution_count": null,
   "metadata": {},
   "outputs": [],
   "source": []
  },
  {
   "cell_type": "code",
   "execution_count": null,
   "metadata": {},
   "outputs": [],
   "source": []
  },
  {
   "cell_type": "markdown",
   "metadata": {},
   "source": [
    "### Example 8: Put your ideas in practice! Open file abstract_from_emma.txt and read it in variable ***abstract***. \n",
    "\n",
    "- Use a for/ if structure to print out the text letter by letter. \n",
    "\n",
    "- When there is a space print a 'end word/ start word' to show that your code understands a word ended and a new one starts. (google to find a function that allows you to do that, or think of a creative way to do it!)\n",
    "\n",
    "- When there is a new line ask the code to print 'new line'  to show that it understands you are in a new line. "
   ]
  },
  {
   "cell_type": "code",
   "execution_count": 54,
   "metadata": {},
   "outputs": [],
   "source": [
    "f = open('abstract_from_Emma.txt')\n",
    "abstract = f.read()\n",
    "f.close()"
   ]
  },
  {
   "cell_type": "code",
   "execution_count": 55,
   "metadata": {},
   "outputs": [
    {
     "name": "stdout",
     "output_type": "stream",
     "text": [
      "\"There does, indeed, seem as little to tempt her to break\n",
      "her resolution at present,\" said Mrs. Weston, \"as can well be;\n",
      "and while she is so happy at Hartfield, I cannot wish her to be\n",
      "forming any attachment which would be creating such difficulties\n",
      "on poor Mr. Woodhouse's account.  I do not recommend matrimony\n",
      "at present to Emma, though I mean no slight to the state, I assure you.\" \n",
      "\n"
     ]
    }
   ],
   "source": [
    "print( abstract )"
   ]
  },
  {
   "cell_type": "code",
   "execution_count": 58,
   "metadata": {},
   "outputs": [
    {
     "name": "stdout",
     "output_type": "stream",
     "text": [
      "\"\n",
      "T\n",
      "h\n",
      "e\n",
      "r\n",
      "e\n",
      " \n",
      "end word/start word\n",
      "d\n",
      "o\n",
      "e\n",
      "s\n",
      ",\n",
      " \n",
      "end word/start word\n",
      "i\n",
      "n\n",
      "d\n",
      "e\n",
      "e\n",
      "d\n",
      ",\n",
      " \n",
      "end word/start word\n",
      "s\n",
      "e\n",
      "e\n",
      "m\n",
      " \n",
      "end word/start word\n",
      "a\n",
      "s\n",
      " \n",
      "end word/start word\n",
      "l\n",
      "i\n",
      "t\n",
      "t\n",
      "l\n",
      "e\n",
      " \n",
      "end word/start word\n",
      "t\n",
      "o\n",
      " \n",
      "end word/start word\n",
      "t\n",
      "e\n",
      "m\n",
      "p\n",
      "t\n",
      " \n",
      "end word/start word\n",
      "h\n",
      "e\n",
      "r\n",
      " \n",
      "end word/start word\n",
      "t\n",
      "o\n",
      " \n",
      "end word/start word\n",
      "b\n",
      "r\n",
      "e\n",
      "a\n",
      "k\n",
      "\n",
      "\n",
      "end word/start word\n",
      "---new line ---\n",
      "h\n",
      "e\n",
      "r\n",
      " \n",
      "end word/start word\n",
      "r\n",
      "e\n",
      "s\n",
      "o\n",
      "l\n",
      "u\n",
      "t\n",
      "i\n",
      "o\n",
      "n\n",
      " \n",
      "end word/start word\n",
      "a\n",
      "t\n",
      " \n",
      "end word/start word\n",
      "p\n",
      "r\n",
      "e\n",
      "s\n",
      "e\n",
      "n\n",
      "t\n",
      ",\n",
      "\"\n",
      " \n",
      "end word/start word\n",
      "s\n",
      "a\n",
      "i\n",
      "d\n",
      " \n",
      "end word/start word\n",
      "M\n",
      "r\n",
      "s\n",
      ".\n",
      " \n",
      "end word/start word\n",
      "W\n",
      "e\n",
      "s\n",
      "t\n",
      "o\n",
      "n\n",
      ",\n",
      " \n",
      "end word/start word\n",
      "\"\n",
      "a\n",
      "s\n",
      " \n",
      "end word/start word\n",
      "c\n",
      "a\n",
      "n\n",
      " \n",
      "end word/start word\n",
      "w\n",
      "e\n",
      "l\n",
      "l\n",
      " \n",
      "end word/start word\n",
      "b\n",
      "e\n",
      ";\n",
      "\n",
      "\n",
      "end word/start word\n",
      "---new line ---\n",
      "a\n",
      "n\n",
      "d\n",
      " \n",
      "end word/start word\n",
      "w\n",
      "h\n",
      "i\n",
      "l\n",
      "e\n",
      " \n",
      "end word/start word\n",
      "s\n",
      "h\n",
      "e\n",
      " \n",
      "end word/start word\n",
      "i\n",
      "s\n",
      " \n",
      "end word/start word\n",
      "s\n",
      "o\n",
      " \n",
      "end word/start word\n",
      "h\n",
      "a\n",
      "p\n",
      "p\n",
      "y\n",
      " \n",
      "end word/start word\n",
      "a\n",
      "t\n",
      " \n",
      "end word/start word\n",
      "H\n",
      "a\n",
      "r\n",
      "t\n",
      "f\n",
      "i\n",
      "e\n",
      "l\n",
      "d\n",
      ",\n",
      " \n",
      "end word/start word\n",
      "I\n",
      " \n",
      "end word/start word\n",
      "c\n",
      "a\n",
      "n\n",
      "n\n",
      "o\n",
      "t\n",
      " \n",
      "end word/start word\n",
      "w\n",
      "i\n",
      "s\n",
      "h\n",
      " \n",
      "end word/start word\n",
      "h\n",
      "e\n",
      "r\n",
      " \n",
      "end word/start word\n",
      "t\n",
      "o\n",
      " \n",
      "end word/start word\n",
      "b\n",
      "e\n",
      "\n",
      "\n",
      "end word/start word\n",
      "---new line ---\n",
      "f\n",
      "o\n",
      "r\n",
      "m\n",
      "i\n",
      "n\n",
      "g\n",
      " \n",
      "end word/start word\n",
      "a\n",
      "n\n",
      "y\n",
      " \n",
      "end word/start word\n",
      "a\n",
      "t\n",
      "t\n",
      "a\n",
      "c\n",
      "h\n",
      "m\n",
      "e\n",
      "n\n",
      "t\n",
      " \n",
      "end word/start word\n",
      "w\n",
      "h\n",
      "i\n",
      "c\n",
      "h\n",
      " \n",
      "end word/start word\n",
      "w\n",
      "o\n",
      "u\n",
      "l\n",
      "d\n",
      " \n",
      "end word/start word\n",
      "b\n",
      "e\n",
      " \n",
      "end word/start word\n",
      "c\n",
      "r\n",
      "e\n",
      "a\n",
      "t\n",
      "i\n",
      "n\n",
      "g\n",
      " \n",
      "end word/start word\n",
      "s\n",
      "u\n",
      "c\n",
      "h\n",
      " \n",
      "end word/start word\n",
      "d\n",
      "i\n",
      "f\n",
      "f\n",
      "i\n",
      "c\n",
      "u\n",
      "l\n",
      "t\n",
      "i\n",
      "e\n",
      "s\n",
      "\n",
      "\n",
      "end word/start word\n",
      "---new line ---\n",
      "o\n",
      "n\n",
      " \n",
      "end word/start word\n",
      "p\n",
      "o\n",
      "o\n",
      "r\n",
      " \n",
      "end word/start word\n",
      "M\n",
      "r\n",
      ".\n",
      " \n",
      "end word/start word\n",
      "W\n",
      "o\n",
      "o\n",
      "d\n",
      "h\n",
      "o\n",
      "u\n",
      "s\n",
      "e\n",
      "'\n",
      "s\n",
      " \n",
      "end word/start word\n",
      "a\n",
      "c\n",
      "c\n",
      "o\n",
      "u\n",
      "n\n",
      "t\n",
      ".\n",
      " \n",
      "end word/start word\n",
      " \n",
      "end word/start word\n",
      "I\n",
      " \n",
      "end word/start word\n",
      "d\n",
      "o\n",
      " \n",
      "end word/start word\n",
      "n\n",
      "o\n",
      "t\n",
      " \n",
      "end word/start word\n",
      "r\n",
      "e\n",
      "c\n",
      "o\n",
      "m\n",
      "m\n",
      "e\n",
      "n\n",
      "d\n",
      " \n",
      "end word/start word\n",
      "m\n",
      "a\n",
      "t\n",
      "r\n",
      "i\n",
      "m\n",
      "o\n",
      "n\n",
      "y\n",
      "\n",
      "\n",
      "end word/start word\n",
      "---new line ---\n",
      "a\n",
      "t\n",
      " \n",
      "end word/start word\n",
      "p\n",
      "r\n",
      "e\n",
      "s\n",
      "e\n",
      "n\n",
      "t\n",
      " \n",
      "end word/start word\n",
      "t\n",
      "o\n",
      " \n",
      "end word/start word\n",
      "E\n",
      "m\n",
      "m\n",
      "a\n",
      ",\n",
      " \n",
      "end word/start word\n",
      "t\n",
      "h\n",
      "o\n",
      "u\n",
      "g\n",
      "h\n",
      " \n",
      "end word/start word\n",
      "I\n",
      " \n",
      "end word/start word\n",
      "m\n",
      "e\n",
      "a\n",
      "n\n",
      " \n",
      "end word/start word\n",
      "n\n",
      "o\n",
      " \n",
      "end word/start word\n",
      "s\n",
      "l\n",
      "i\n",
      "g\n",
      "h\n",
      "t\n",
      " \n",
      "end word/start word\n",
      "t\n",
      "o\n",
      " \n",
      "end word/start word\n",
      "t\n",
      "h\n",
      "e\n",
      " \n",
      "end word/start word\n",
      "s\n",
      "t\n",
      "a\n",
      "t\n",
      "e\n",
      ",\n",
      " \n",
      "end word/start word\n",
      "I\n",
      " \n",
      "end word/start word\n",
      "a\n",
      "s\n",
      "s\n",
      "u\n",
      "r\n",
      "e\n",
      " \n",
      "end word/start word\n",
      "y\n",
      "o\n",
      "u\n",
      ".\n",
      "\"\n",
      " \n",
      "end word/start word\n",
      "\n",
      "\n",
      "end word/start word\n",
      "---new line ---\n"
     ]
    }
   ],
   "source": [
    "for word in abstract:\n",
    "    print( word )\n",
    "    \n",
    "    if word.isspace():\n",
    "        print('end word/start word')\n",
    "    if word == '\\n':\n",
    "        print( '---new line ---')\n",
    "    "
   ]
  },
  {
   "cell_type": "code",
   "execution_count": 67,
   "metadata": {},
   "outputs": [],
   "source": [
    "split_txt1 = abstract.split('\\n')\n"
   ]
  },
  {
   "cell_type": "code",
   "execution_count": 70,
   "metadata": {},
   "outputs": [
    {
     "name": "stdout",
     "output_type": "stream",
     "text": [
      "\"There\n",
      "does,\n",
      "indeed,\n",
      "seem\n",
      "as\n",
      "little\n",
      "to\n",
      "tempt\n",
      "her\n",
      "to\n",
      "break\n",
      "her\n",
      "resolution\n",
      "at\n",
      "present,\"\n",
      "said\n",
      "Mrs.\n",
      "Weston,\n",
      "\"as\n",
      "can\n",
      "well\n",
      "be;\n",
      "and\n",
      "while\n",
      "she\n",
      "is\n",
      "so\n",
      "happy\n",
      "at\n",
      "Hartfield,\n",
      "I\n",
      "cannot\n",
      "wish\n",
      "her\n",
      "to\n",
      "be\n",
      "forming\n",
      "any\n",
      "attachment\n",
      "which\n",
      "would\n",
      "be\n",
      "creating\n",
      "such\n",
      "difficulties\n",
      "on\n",
      "poor\n",
      "Mr.\n",
      "Woodhouse's\n",
      "account.\n",
      "I\n",
      "do\n",
      "not\n",
      "recommend\n",
      "matrimony\n",
      "at\n",
      "present\n",
      "to\n",
      "Emma,\n",
      "though\n",
      "I\n",
      "mean\n",
      "no\n",
      "slight\n",
      "to\n",
      "the\n",
      "state,\n",
      "I\n",
      "assure\n",
      "you.\"\n"
     ]
    }
   ],
   "source": [
    "for spl_word in split_txt1:\n",
    "    n = spl_word.split() \n",
    "    for m in n:\n",
    "        print( m )"
   ]
  },
  {
   "cell_type": "code",
   "execution_count": null,
   "metadata": {},
   "outputs": [],
   "source": []
  },
  {
   "cell_type": "code",
   "execution_count": null,
   "metadata": {},
   "outputs": [],
   "source": []
  },
  {
   "cell_type": "markdown",
   "metadata": {},
   "source": [
    "### This looks a bit funny, right? Let's split it first by new lines using the split() function:"
   ]
  },
  {
   "cell_type": "code",
   "execution_count": null,
   "metadata": {},
   "outputs": [],
   "source": [
    "f = open('abstract_from_Emma.txt')\n",
    "abstract2 = f.read().split('\\n')\n",
    "f.close()"
   ]
  },
  {
   "cell_type": "code",
   "execution_count": null,
   "metadata": {},
   "outputs": [],
   "source": [
    "#let's see what we did :\n",
    "for word in abstract2:\n",
    "    print( word )"
   ]
  },
  {
   "cell_type": "markdown",
   "metadata": {},
   "source": [
    "### How did the split() work?"
   ]
  },
  {
   "cell_type": "markdown",
   "metadata": {},
   "source": [
    "### Now, use a nested for loop: loop over the lines, then for every line: split it in the words it's made of and print the words out one after another. If there is is new line print the ------ again.\n"
   ]
  },
  {
   "cell_type": "code",
   "execution_count": null,
   "metadata": {},
   "outputs": [],
   "source": []
  },
  {
   "cell_type": "code",
   "execution_count": null,
   "metadata": {},
   "outputs": [],
   "source": []
  },
  {
   "cell_type": "markdown",
   "metadata": {},
   "source": [
    "### Example 9: Now we need to read a text that is written the other way around. Assuming we told the computer that it needs to read backwards read the file ***back_forth_reading.txt*** into variable ***new_text***.  Print it out so that we can read it (letter by letter, or word by word are both fine). \n",
    "\n",
    "- Discuss: how would we let the computer know it needs to read the other way around?\n",
    "- how would you code it to read the text and print it in a way that you understand?"
   ]
  },
  {
   "cell_type": "code",
   "execution_count": 71,
   "metadata": {},
   "outputs": [],
   "source": [
    "# let's see the text first:\n",
    "f = open('back_forth_reading.txt')\n",
    "new_text = f.read()\n",
    "f.close()"
   ]
  },
  {
   "cell_type": "code",
   "execution_count": 72,
   "metadata": {},
   "outputs": [
    {
     "name": "stdout",
     "output_type": "stream",
     "text": [
      "  !tib a selur eht egnahc  steL\n",
      "  !siht  daer em ekam\n",
      "\n"
     ]
    }
   ],
   "source": [
    "print( new_text )"
   ]
  },
  {
   "cell_type": "code",
   "execution_count": null,
   "metadata": {},
   "outputs": [],
   "source": []
  },
  {
   "cell_type": "code",
   "execution_count": null,
   "metadata": {},
   "outputs": [],
   "source": [
    "# 3 bonus HW points for element by element-- 5 for word by word"
   ]
  },
  {
   "cell_type": "code",
   "execution_count": null,
   "metadata": {},
   "outputs": [],
   "source": []
  },
  {
   "cell_type": "code",
   "execution_count": null,
   "metadata": {},
   "outputs": [],
   "source": []
  },
  {
   "cell_type": "markdown",
   "metadata": {},
   "source": [
    "### Let's continue with some FOR/IF practice!"
   ]
  },
  {
   "cell_type": "code",
   "execution_count": null,
   "metadata": {},
   "outputs": [],
   "source": []
  },
  {
   "cell_type": "markdown",
   "metadata": {},
   "source": [
    "### Example 10: You have a shelter with different animals. Write a code that asks the user for the kind of pet it wants. The code then scans a list with the following words that are the pets in your inventory: 'dog', 'cat', 'parrot', 'mouse', 'spider', 'bird'. If the pet is there let the user know they can get a pet, if the word is not there, let them know no pet is there.\n",
    "\n",
    "- Discuss: how do we let the code know what our inventory is?\n",
    "- how do we ask for input from the user about what pet they want? (Try googling to find how you can use the keyboard to get input (or, remember, Python commands are *very* intuitive) )\n",
    "- how will the code test if the wanted pet is among the inventory?\n",
    "- code it up!"
   ]
  },
  {
   "cell_type": "code",
   "execution_count": 73,
   "metadata": {},
   "outputs": [],
   "source": [
    "#make list with your inventory\n",
    "pet_inventory = ['dog', 'cat', 'parrot', 'mouse', 'spider', 'bird' ]"
   ]
  },
  {
   "cell_type": "code",
   "execution_count": 81,
   "metadata": {},
   "outputs": [
    {
     "name": "stdout",
     "output_type": "stream",
     "text": [
      "What animal do you want?dog\n"
     ]
    }
   ],
   "source": [
    "#ask input from user\n",
    "animal_wanted = input( 'What animal do you want?' )"
   ]
  },
  {
   "cell_type": "code",
   "execution_count": 76,
   "metadata": {},
   "outputs": [],
   "source": [
    "#animal_wanted"
   ]
  },
  {
   "cell_type": "code",
   "execution_count": 83,
   "metadata": {},
   "outputs": [
    {
     "name": "stdout",
     "output_type": "stream",
     "text": [
      "yes! we have a  dog\n",
      "sorry! we don't have a  dog\n",
      "sorry! we don't have a  dog\n",
      "sorry! we don't have a  dog\n",
      "sorry! we don't have a  dog\n",
      "sorry! we don't have a  dog\n"
     ]
    }
   ],
   "source": [
    "#try with for/if\n",
    "for animal in pet_inventory:\n",
    "    if animal == animal_wanted:\n",
    "        print( 'yes! we have a ', animal_wanted )\n",
    "    else:\n",
    "        print( \"sorry! we don't have a \", animal_wanted )\n"
   ]
  },
  {
   "cell_type": "code",
   "execution_count": null,
   "metadata": {},
   "outputs": [],
   "source": [
    "#try with if alone:\n"
   ]
  },
  {
   "cell_type": "code",
   "execution_count": 80,
   "metadata": {},
   "outputs": [
    {
     "name": "stdout",
     "output_type": "stream",
     "text": [
      "sorry! we don't have a  horse\n"
     ]
    }
   ],
   "source": [
    "if animal_wanted in pet_inventory:\n",
    "    print( 'yes! we have a ', animal_wanted)\n",
    "if animal_wanted not in pet_inventory:\n",
    "    print( \"sorry! we don't have a \", animal_wanted )"
   ]
  },
  {
   "cell_type": "code",
   "execution_count": null,
   "metadata": {},
   "outputs": [],
   "source": []
  },
  {
   "cell_type": "markdown",
   "metadata": {},
   "source": [
    "### Example 11: For advertising reasons you need to figure out what the favorite color of a car is. You get data with the color of different cars passing through a given intersection on a typical day (stored list ***typical_day***).  How many cars of red color and how many black ones are on the street on a typical day?  \n",
    "\n",
    "- Discuss: how do we count how many black cars there are on a typical day with a FOR/IF combination?\n",
    "- Are there function we can use to avoid spending time in a FOR/IF structure?\n",
    "- Code this up!\n",
    "\n"
   ]
  },
  {
   "cell_type": "code",
   "execution_count": null,
   "metadata": {},
   "outputs": [],
   "source": []
  },
  {
   "cell_type": "code",
   "execution_count": 84,
   "metadata": {},
   "outputs": [],
   "source": [
    "typical_day = [ 'white','green', 'black','red', 'blue','white','white','red',\n",
    "               'blue','blue','red','white', 'red','black','green','white','white',\n",
    "               'white','white','white','blue','blue', 'red','black','green','red',\n",
    "               'white','blue', 'red','black','red','blue','blue','blue', 'black',\n",
    "               'green','black','green','green']"
   ]
  },
  {
   "cell_type": "code",
   "execution_count": 85,
   "metadata": {},
   "outputs": [],
   "source": [
    "#check first, is there any red or any black cars?\n",
    "n_black = 0 \n",
    "\n",
    "for car in typical_day:\n",
    "    if car == 'black':\n",
    "        n_black = n_black + 1 "
   ]
  },
  {
   "cell_type": "code",
   "execution_count": 86,
   "metadata": {},
   "outputs": [
    {
     "name": "stdout",
     "output_type": "stream",
     "text": [
      "you have  6  black cars.\n"
     ]
    }
   ],
   "source": [
    "print('you have ', n_black, ' black cars.')"
   ]
  },
  {
   "cell_type": "code",
   "execution_count": 88,
   "metadata": {},
   "outputs": [
    {
     "name": "stdout",
     "output_type": "stream",
     "text": [
      "you have  8  red cars.\n"
     ]
    }
   ],
   "source": [
    "n_red = 0 \n",
    "\n",
    "for car in typical_day:\n",
    "    if car == 'red':\n",
    "        n_red = n_red + 1 \n",
    "\n",
    "print('you have ', n_red, ' red cars.')"
   ]
  },
  {
   "cell_type": "code",
   "execution_count": 89,
   "metadata": {},
   "outputs": [
    {
     "name": "stdout",
     "output_type": "stream",
     "text": [
      "you have  6  black cars.\n"
     ]
    }
   ],
   "source": [
    "print( 'you have ', typical_day.count('black') , ' black cars.')"
   ]
  },
  {
   "cell_type": "markdown",
   "metadata": {},
   "source": [
    "### Example 12: Use numpy to read-in the ***small_dataset.dat*** in a variable ***data***. These data come from lab measurements and they are supposed to follow specific constrains. Write a code that warns us if the sum of a line is larger than 500 or if the sum of a column is larger than 700. If the conditions are not meant the code should warn you about what goes wrong (sum of line or column is wrong).\n",
    "\n",
    "- Discuss: how do you read the data in?\n",
    "- how do you check if the sum of a line or a column is larger than the given limits?\n",
    "- how will you warn the user of the code if the sums are larger than the required limits?\n",
    "- code it up!\n"
   ]
  },
  {
   "cell_type": "code",
   "execution_count": null,
   "metadata": {},
   "outputs": [],
   "source": []
  },
  {
   "cell_type": "code",
   "execution_count": null,
   "metadata": {},
   "outputs": [],
   "source": []
  },
  {
   "cell_type": "code",
   "execution_count": null,
   "metadata": {},
   "outputs": [],
   "source": []
  },
  {
   "cell_type": "code",
   "execution_count": null,
   "metadata": {},
   "outputs": [],
   "source": []
  },
  {
   "cell_type": "markdown",
   "metadata": {},
   "source": [
    "### Example 13: At the start of a hurricane season NHC makes a list of the names that tropical storms and hurricanes will have that year. In 2021 the names were: 'Ana', 'Bill', 'Claudette', 'Danny', 'Elsa', 'Fred', 'Grace', 'Henri', 'Ida', 'Kate', 'Julian', 'Larry',  'Mindy', 'Nicholas', 'Odette', 'Peter', 'Rose', 'Sam',  'Teressa', 'Victor' and 'Wanda'. If the season is active and there are more storms/hurricanes they will start being named using the Greek alphabet. \n",
    "\n",
    "### Assume that the year is 2021 and you work for NHC. Let's make a code that will automatically name a hurricane once it appears. \n",
    "\n",
    "- Discuss how do you code this up? What are the parameters you need to take into account?\n",
    "    \n",
    "- Code!\n",
    "\n",
    "- Run your program for 2021. Remember that it was a very active year and we went through all the names and then onto Greek letters...."
   ]
  },
  {
   "cell_type": "code",
   "execution_count": 90,
   "metadata": {},
   "outputs": [],
   "source": [
    "hc_names = ['Ana', 'Bill', 'Claudette', 'Danny', 'Elsa', 'Fred', 'Grace', 'Henri', 'Ida', \n",
    "            'Kate', 'Julian', 'Larry', 'Mindy', 'Nicholas', 'Odette', 'Peter', 'Rose', 'Sam', \n",
    "            'Teressa', 'Victor' ,'Wanda']"
   ]
  },
  {
   "cell_type": "code",
   "execution_count": 91,
   "metadata": {},
   "outputs": [
    {
     "name": "stdout",
     "output_type": "stream",
     "text": [
      "which hurricane of the year is it?1\n"
     ]
    }
   ],
   "source": [
    "num_hc = int( input( 'which hurricane of the year is it?' ) )"
   ]
  },
  {
   "cell_type": "code",
   "execution_count": 92,
   "metadata": {},
   "outputs": [
    {
     "name": "stdout",
     "output_type": "stream",
     "text": [
      "The name of this hurricane is Ana\n"
     ]
    }
   ],
   "source": [
    "print(  'The name of this hurricane is', hc_names[ num_hc -1 ] )"
   ]
  },
  {
   "cell_type": "code",
   "execution_count": null,
   "metadata": {},
   "outputs": [],
   "source": []
  },
  {
   "cell_type": "code",
   "execution_count": null,
   "metadata": {},
   "outputs": [],
   "source": []
  },
  {
   "cell_type": "markdown",
   "metadata": {},
   "source": [
    "# ----------------------------------------------\n",
    "# WHILE"
   ]
  },
  {
   "cell_type": "markdown",
   "metadata": {},
   "source": [
    "## Does something ‘while’ a conditions is true. If not, it stops:\n",
    "    while <condition 1>:  \n",
    "        do something\n"
   ]
  },
  {
   "cell_type": "markdown",
   "metadata": {},
   "source": [
    "### For example, start with x = 1 and keep on adding 1 until x<5:"
   ]
  },
  {
   "cell_type": "code",
   "execution_count": 93,
   "metadata": {},
   "outputs": [
    {
     "name": "stdout",
     "output_type": "stream",
     "text": [
      "1\n",
      "2\n",
      "3\n",
      "4\n"
     ]
    }
   ],
   "source": [
    "x  = 1\n",
    "\n",
    "while x < 5:\n",
    "    print( x )\n",
    "    x += 1 # or x = x +1\n"
   ]
  },
  {
   "cell_type": "markdown",
   "metadata": {},
   "source": [
    "### Create array x going from 0 to 10 in steps of 0.1. Create array y=sin(x). Make a while loop that scans parameter i (initiate it to 0) and prints x[i],y[i] as long as y[i]>=0. \n"
   ]
  },
  {
   "cell_type": "code",
   "execution_count": 94,
   "metadata": {},
   "outputs": [],
   "source": [
    "x = np.arange( 0, 10 , 0.1 )\n",
    "y = np.sin( x )"
   ]
  },
  {
   "cell_type": "code",
   "execution_count": 99,
   "metadata": {},
   "outputs": [],
   "source": [
    "#for i in range( len( x ) ):\n",
    "#    if y[ i ] >= 0:\n",
    "#        print( x[ i ], y[ i ] )"
   ]
  },
  {
   "cell_type": "code",
   "execution_count": 102,
   "metadata": {},
   "outputs": [
    {
     "name": "stdout",
     "output_type": "stream",
     "text": [
      "0.0 0.0\n",
      "0.1 0.09983341664682815\n",
      "0.2 0.19866933079506122\n",
      "0.30000000000000004 0.2955202066613396\n",
      "0.4 0.3894183423086505\n",
      "0.5 0.479425538604203\n",
      "0.6000000000000001 0.5646424733950355\n",
      "0.7000000000000001 0.6442176872376911\n",
      "0.8 0.7173560908995228\n",
      "0.9 0.7833269096274833\n",
      "1.0 0.8414709848078965\n",
      "1.1 0.8912073600614354\n",
      "1.2000000000000002 0.9320390859672264\n",
      "1.3 0.963558185417193\n",
      "1.4000000000000001 0.9854497299884603\n",
      "1.5 0.9974949866040544\n",
      "1.6 0.9995736030415051\n",
      "1.7000000000000002 0.9916648104524686\n",
      "1.8 0.9738476308781951\n",
      "1.9000000000000001 0.9463000876874145\n",
      "2.0 0.9092974268256817\n",
      "2.1 0.8632093666488738\n",
      "2.2 0.8084964038195901\n",
      "2.3000000000000003 0.74570521217672\n",
      "2.4000000000000004 0.6754631805511506\n",
      "2.5 0.5984721441039564\n",
      "2.6 0.5155013718214642\n",
      "2.7 0.4273798802338298\n",
      "2.8000000000000003 0.33498815015590466\n",
      "2.9000000000000004 0.23924932921398198\n",
      "3.0 0.1411200080598672\n",
      "3.1 0.04158066243329049\n",
      "6.300000000000001 0.0168139004843506\n",
      "6.4 0.11654920485049364\n",
      "6.5 0.21511998808781552\n",
      "6.6000000000000005 0.3115413635133787\n",
      "6.7 0.40484992061659836\n",
      "6.800000000000001 0.49411335113860894\n",
      "6.9 0.5784397643882002\n",
      "7.0 0.6569865987187891\n",
      "7.1000000000000005 0.7289690401258765\n",
      "7.2 0.7936678638491531\n",
      "7.300000000000001 0.8504366206285648\n",
      "7.4 0.8987080958116269\n",
      "7.5 0.9379999767747389\n",
      "7.6000000000000005 0.9679196720314865\n",
      "7.7 0.9881682338770004\n",
      "7.800000000000001 0.998543345374605\n",
      "7.9 0.998941341839772\n",
      "8.0 0.9893582466233818\n",
      "8.1 0.9698898108450863\n",
      "8.200000000000001 0.9407305566797726\n",
      "8.3 0.9021718337562934\n",
      "8.4 0.8545989080882805\n",
      "8.5 0.7984871126234903\n",
      "8.6 0.7343970978741134\n",
      "8.700000000000001 0.662969230082182\n",
      "8.8 0.5849171928917617\n",
      "8.9 0.5010208564578846\n",
      "9.0 0.4121184852417566\n",
      "9.1 0.3190983623493521\n",
      "9.200000000000001 0.22288991410024592\n",
      "9.3 0.12445442350706169\n",
      "9.4 0.024775425453357765\n"
     ]
    }
   ],
   "source": [
    "i = 0 \n",
    "while i <= len( x ) -1 :\n",
    "    if y[ i ] >= 0:\n",
    "        print( x[ i ], y[ i ] )\n",
    "    i = i +1"
   ]
  },
  {
   "cell_type": "code",
   "execution_count": null,
   "metadata": {},
   "outputs": [],
   "source": []
  },
  {
   "cell_type": "markdown",
   "metadata": {},
   "source": [
    "### While loops accept ***else*** to do something once the condition is no longer met:"
   ]
  },
  {
   "cell_type": "code",
   "execution_count": 103,
   "metadata": {},
   "outputs": [
    {
     "name": "stdout",
     "output_type": "stream",
     "text": [
      "0\n",
      "1\n",
      "2\n",
      "3\n",
      "4\n",
      "x >= 5\n"
     ]
    }
   ],
   "source": [
    "x  = 0\n",
    "\n",
    "while x < 5:\n",
    "    print( x )\n",
    "    x = x + 1\n",
    "else:\n",
    "    print( 'x >= 5' )\n"
   ]
  },
  {
   "cell_type": "code",
   "execution_count": null,
   "metadata": {},
   "outputs": [],
   "source": []
  },
  {
   "cell_type": "markdown",
   "metadata": {},
   "source": [
    "## A) Breaking loops"
   ]
  },
  {
   "cell_type": "markdown",
   "metadata": {},
   "source": [
    "### In some cases you may want to break through a loop if some condition is met. Use the ***break***. This will stop the loop when a condition is met:"
   ]
  },
  {
   "cell_type": "markdown",
   "metadata": {},
   "source": [
    "#### For example, make a for loop scanning through list x, which should be positive. Break if by accident x contains negative element:\n"
   ]
  },
  {
   "cell_type": "code",
   "execution_count": 104,
   "metadata": {},
   "outputs": [],
   "source": [
    "x =  [0 ,1, 2,4, 6,8, -12, 14, 16] "
   ]
  },
  {
   "cell_type": "code",
   "execution_count": 105,
   "metadata": {},
   "outputs": [
    {
     "name": "stdout",
     "output_type": "stream",
     "text": [
      "0\n",
      "1\n",
      "2\n",
      "4\n",
      "6\n",
      "8\n",
      "-12\n"
     ]
    }
   ],
   "source": [
    "for i in range( len( x ) ):\n",
    "    print( x[ i ] ) \n",
    "    if x[ i ] < 0 :\n",
    "        break"
   ]
  },
  {
   "cell_type": "markdown",
   "metadata": {},
   "source": [
    "### There are cases where you might want to raise exceptions (for example, your simulation gives a negative flux which is unphysical, or the file you try to open is not there) that break loops and give warning signs. \n"
   ]
  },
  {
   "cell_type": "markdown",
   "metadata": {},
   "source": [
    "### 1) I/O Errors:"
   ]
  },
  {
   "cell_type": "code",
   "execution_count": 106,
   "metadata": {},
   "outputs": [
    {
     "name": "stdout",
     "output_type": "stream",
     "text": [
      "cannot open first_data_read_plot.dat\n",
      "cannot open my_first_data.dat\n"
     ]
    }
   ],
   "source": [
    "file_list = ('first_data_read_plot.dat', 'my_first_data.dat', 'forest_surface.dat') \n",
    "\n",
    "#file_list = ('tt.dat', 'gl570d.dat', 'all_data/forest_surface.dat') \n",
    "\n",
    "for i in range(2):\n",
    "#    f = open(file_list[i], 'r')\n",
    "    try:\n",
    "        f = open(file_list[i], 'r')\n",
    "        f.read()\n",
    "    except IOError:\n",
    "        \n",
    "        print ('cannot open', file_list[i])\n"
   ]
  },
  {
   "cell_type": "markdown",
   "metadata": {},
   "source": [
    "### 2) Making your own exceptions (see objects/classes/attributs class as well):"
   ]
  },
  {
   "cell_type": "code",
   "execution_count": null,
   "metadata": {},
   "outputs": [],
   "source": [
    "class NegativeFlux(Exception):\n",
    "    \"\"\"You got a physically impossible flux (F<0)\"\"\"\n",
    "    \n",
    "    pass\n",
    "\n"
   ]
  },
  {
   "cell_type": "code",
   "execution_count": null,
   "metadata": {},
   "outputs": [],
   "source": [
    "#then raise an exception if F<0:\n",
    "Fin = 5\n",
    "\n",
    "if Fin<0:\n",
    "    raise NegativeFlux( \"F < 0 !\" )"
   ]
  },
  {
   "cell_type": "code",
   "execution_count": null,
   "metadata": {},
   "outputs": [],
   "source": [
    "Fin = -25.\n",
    "\n",
    "\n",
    "if Fin<0:\n",
    "    raise NegativeFlux( \"F < 0 !\" )"
   ]
  },
  {
   "cell_type": "code",
   "execution_count": null,
   "metadata": {},
   "outputs": [],
   "source": []
  },
  {
   "cell_type": "markdown",
   "metadata": {},
   "source": [
    "## B) Continuing loops"
   ]
  },
  {
   "cell_type": "markdown",
   "metadata": {},
   "source": [
    "### Sometimes you will want to just continue if some condition is met. \n",
    "\n",
    "### ***continue*** : continues with next step. For example:\n"
   ]
  },
  {
   "cell_type": "code",
   "execution_count": 107,
   "metadata": {},
   "outputs": [
    {
     "name": "stdout",
     "output_type": "stream",
     "text": [
      "Current Letter : P\n",
      "Current Letter : y\n",
      "Current Letter : t\n",
      "Current Letter : o\n",
      "Current Letter : n\n"
     ]
    }
   ],
   "source": [
    "for ch in 'Python': \n",
    "    if ch == 'h': \n",
    "        continue   #go to the next iteration \n",
    "    print ('Current Letter :', ch)\n"
   ]
  },
  {
   "cell_type": "code",
   "execution_count": null,
   "metadata": {},
   "outputs": [],
   "source": [
    "F = [ 2, 4, 10, -3, 3, -4, 5 ]\n",
    "\n",
    "for i in range( 7 ):\n",
    "    \n",
    "    Fin = F[ i ] * 10.\n",
    "    \n",
    "    if Fin < 0:\n",
    "        print('Oops! negative flux here:', i )\n",
    "        continue\n",
    "        \n",
    "    print( Fin )\n"
   ]
  },
  {
   "cell_type": "code",
   "execution_count": null,
   "metadata": {},
   "outputs": [],
   "source": []
  },
  {
   "cell_type": "code",
   "execution_count": null,
   "metadata": {},
   "outputs": [],
   "source": []
  },
  {
   "cell_type": "markdown",
   "metadata": {},
   "source": [
    "### Example 14:  Make a code that searches a list (or tuple) of strings ***word_list*** and returns the longest word and the shortest word that the list contains. \n",
    "\n",
    "- Discuss: how would you make the code scan through the list (or tuple)?\n",
    "- how would you test if the word it scans is the shortest or the longest? \n",
    "- can you code it in another way?"
   ]
  },
  {
   "cell_type": "code",
   "execution_count": 108,
   "metadata": {},
   "outputs": [],
   "source": [
    "word_list = [ 'hello', 'world', 'computer', 'test', 'homework', 'programming', 'Python' ]"
   ]
  },
  {
   "cell_type": "code",
   "execution_count": 114,
   "metadata": {},
   "outputs": [
    {
     "name": "stdout",
     "output_type": "stream",
     "text": [
      "hello\n",
      "world\n",
      "computer\n",
      "homework\n",
      "programming\n"
     ]
    }
   ],
   "source": [
    "max_len = 0 \n",
    "\n",
    "for word in word_list:\n",
    "    \n",
    "    if len( word ) >= max_len:\n",
    "        max_word = word \n",
    "     #   print( max_word )\n",
    "        max_len  = len( max_word )"
   ]
  },
  {
   "cell_type": "code",
   "execution_count": 110,
   "metadata": {},
   "outputs": [
    {
     "name": "stdout",
     "output_type": "stream",
     "text": [
      "longest word is  programming\n"
     ]
    }
   ],
   "source": [
    "print( 'longest word is ', max_word )"
   ]
  },
  {
   "cell_type": "code",
   "execution_count": 111,
   "metadata": {},
   "outputs": [
    {
     "name": "stdout",
     "output_type": "stream",
     "text": [
      "longest word is  programming\n"
     ]
    }
   ],
   "source": [
    "max_len = len( word_list[ 0 ] ) \n",
    "\n",
    "for word in word_list:\n",
    "    \n",
    "    if len( word ) >= max_len:\n",
    "        max_word = word \n",
    "        max_len  = len( max_word )\n",
    "print( 'longest word is ', max_word )"
   ]
  },
  {
   "cell_type": "code",
   "execution_count": 112,
   "metadata": {},
   "outputs": [
    {
     "name": "stdout",
     "output_type": "stream",
     "text": [
      "shortest word is  test\n"
     ]
    }
   ],
   "source": [
    "min_len = 110 \n",
    "\n",
    "for word in word_list:\n",
    "    \n",
    "    if len( word ) <= min_len:\n",
    "        min_word = word \n",
    "        min_len  = len( min_word )\n",
    "        \n",
    "print( 'shortest word is ', min_word )"
   ]
  },
  {
   "cell_type": "code",
   "execution_count": 113,
   "metadata": {},
   "outputs": [
    {
     "name": "stdout",
     "output_type": "stream",
     "text": [
      "shortest word is  test\n"
     ]
    }
   ],
   "source": [
    "min_len = len( word_list[ 0 ] ) \n",
    "\n",
    "for word in word_list:\n",
    "    \n",
    "    if len( word ) <= min_len:\n",
    "        min_word = word \n",
    "        min_len  = len( min_word )\n",
    "        \n",
    "print( 'shortest word is ', min_word )"
   ]
  },
  {
   "cell_type": "code",
   "execution_count": null,
   "metadata": {},
   "outputs": [],
   "source": []
  },
  {
   "cell_type": "code",
   "execution_count": null,
   "metadata": {},
   "outputs": [],
   "source": [
    "# Could we use a 'while' here? Let's try in the shortest word case:"
   ]
  },
  {
   "cell_type": "code",
   "execution_count": null,
   "metadata": {},
   "outputs": [],
   "source": []
  },
  {
   "cell_type": "code",
   "execution_count": null,
   "metadata": {},
   "outputs": [],
   "source": []
  },
  {
   "cell_type": "markdown",
   "metadata": {},
   "source": [
    "### Example 15: You have a dictionary of names of students and a list of their average grades ***classroom***. You need to scan through the names and print a letter grade for every student (assume plain ABC with A if grade is >0.90 ; B if grade 0.90> n > 0.80 and C if grade < 0.80).\n",
    "\n",
    "- Discuss: how do we scan the dictionary?\n",
    "- how to we check what the letter grade of a student will be?\n",
    "- code it up!"
   ]
  },
  {
   "cell_type": "code",
   "execution_count": null,
   "metadata": {},
   "outputs": [],
   "source": [
    "classroom = { 'Jane': 0.92 , 'Joe': 0.85, 'Petra': 0.78, 'Peter': 0.81 }"
   ]
  },
  {
   "cell_type": "code",
   "execution_count": null,
   "metadata": {},
   "outputs": [],
   "source": []
  },
  {
   "cell_type": "code",
   "execution_count": null,
   "metadata": {},
   "outputs": [],
   "source": []
  },
  {
   "cell_type": "markdown",
   "metadata": {},
   "source": [
    "### Example 16: You are given the data ***my_data***. \n",
    "\n",
    "    1) Access and print the numbers 4 9 14 19 24\n",
    "    2) Scan ***my_data*** with a for/if structure and find the maximum\n",
    "    3) Calculate the mean of the ***my_data*** using a for/if \n",
    "    4) How could you get the minimum and mean, **much** faster?"
   ]
  },
  {
   "cell_type": "code",
   "execution_count": null,
   "metadata": {},
   "outputs": [],
   "source": [
    "my_data = np.arange( 1, 26 ).reshape( (5, 5) )"
   ]
  },
  {
   "cell_type": "code",
   "execution_count": null,
   "metadata": {},
   "outputs": [],
   "source": []
  },
  {
   "cell_type": "code",
   "execution_count": null,
   "metadata": {},
   "outputs": [],
   "source": []
  },
  {
   "cell_type": "code",
   "execution_count": null,
   "metadata": {},
   "outputs": [],
   "source": []
  },
  {
   "cell_type": "code",
   "execution_count": null,
   "metadata": {},
   "outputs": [],
   "source": []
  },
  {
   "cell_type": "code",
   "execution_count": null,
   "metadata": {},
   "outputs": [],
   "source": []
  },
  {
   "cell_type": "markdown",
   "metadata": {},
   "source": [
    "### Example 17: Make a function ***min_max_words*** that gets as input any string, splits it in the words it is made of and returns a tuple with the shortest and longest word. Call it for the sentence: \"If you are trying to come up with a new concept, a new idea or a new product, a random sentence may help you find unique qualities you may not have considered\""
   ]
  },
  {
   "cell_type": "code",
   "execution_count": null,
   "metadata": {},
   "outputs": [],
   "source": [
    "\n"
   ]
  },
  {
   "cell_type": "code",
   "execution_count": null,
   "metadata": {},
   "outputs": [],
   "source": [
    "my_sentence = \"\"\"If you are trying to come up with a new concept, a new idea or a \n",
    "        new product, a random sentence may help you find unique qualities you may not have considered\"\"\""
   ]
  },
  {
   "cell_type": "code",
   "execution_count": null,
   "metadata": {},
   "outputs": [],
   "source": []
  },
  {
   "cell_type": "code",
   "execution_count": null,
   "metadata": {},
   "outputs": [],
   "source": []
  },
  {
   "cell_type": "code",
   "execution_count": null,
   "metadata": {},
   "outputs": [],
   "source": []
  },
  {
   "cell_type": "markdown",
   "metadata": {},
   "source": [
    "### Example 18: Create a function that gets as input a word. If the word you give is maximum of 5 characters it prints it. If it is longer, it exits with an error message. In the main code write a code that asks input from the user and calls the function to test if it is right (< 5 char) or not. "
   ]
  },
  {
   "cell_type": "code",
   "execution_count": null,
   "metadata": {},
   "outputs": [],
   "source": []
  },
  {
   "cell_type": "code",
   "execution_count": null,
   "metadata": {},
   "outputs": [],
   "source": []
  },
  {
   "cell_type": "code",
   "execution_count": null,
   "metadata": {},
   "outputs": [],
   "source": []
  },
  {
   "cell_type": "code",
   "execution_count": null,
   "metadata": {},
   "outputs": [],
   "source": []
  },
  {
   "cell_type": "markdown",
   "metadata": {},
   "source": [
    "### Example 19: Now that we know how to use 'while' go back to the hurricane names of Example 13 and change it so that your code keeps on running until the hurricane season is over.\n",
    "\n",
    "- Discuss: what changes does our code need?\n",
    "- code! \n",
    "- Run it for the full hurricane season (stop when Greek letters start)"
   ]
  },
  {
   "cell_type": "code",
   "execution_count": null,
   "metadata": {},
   "outputs": [],
   "source": []
  }
 ],
 "metadata": {
  "kernelspec": {
   "display_name": "Python 3",
   "language": "python",
   "name": "python3"
  },
  "language_info": {
   "codemirror_mode": {
    "name": "ipython",
    "version": 3
   },
   "file_extension": ".py",
   "mimetype": "text/x-python",
   "name": "python",
   "nbconvert_exporter": "python",
   "pygments_lexer": "ipython3",
   "version": "3.7.6"
  }
 },
 "nbformat": 4,
 "nbformat_minor": 5
}
