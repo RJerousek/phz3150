{
 "cells": [
  {
   "cell_type": "markdown",
   "metadata": {},
   "source": [
    "### For this Midterm exam we will be coding a little navigation program. Typically, a good navigation program is pretty complex with thousands of variables that need to be taken into account. We will do a simplified case where a traveler can only travel between 12 cities, on predetermined routes. Your task will be to let the driver know how long their trip will be and what the best route is when they want to go from A to B. \n",
    "\n",
    "### Problems to Hand In: Your log is part of your Midterm exam. In one of the entries, it should identify the start and end of the Midterm and list the problem numbers in order. Keep notes about what you are doing for each problem, as well as the answers to the problems. \n"
   ]
  },
  {
   "cell_type": "markdown",
   "metadata": {},
   "source": [
    "<img src=\"octodriver.png\" width=300 height=300 />"
   ]
  },
  {
   "cell_type": "markdown",
   "metadata": {},
   "source": [
    "## ----------------------------- \n",
    "## Problem 1 (5 points total). "
   ]
  },
  {
   "cell_type": "markdown",
   "metadata": {},
   "source": [
    "### A) (2 points) Start by making a new folder under HW/ called Midterm/.  Your main homework file is this Jupyter notebook. Remember to rename it to midterm_$\\mathrm{<username>}$.ipynb.  Save it under Midterm/ . Remember to commit your file often and push to GitHub. Note that Github also serves as a great backup and will help you to submit *something* if an unexpected problem appears before the deadline (e.g., your laptop breaks). We will check this as part of your grading!\n",
    "\n",
    "### Your name, assignment number, and the date should appear as comments at the top using markdown. Any remarks or written answers you may make should be written using Markdown. If you need to comment something in the code (for clarity) do so with a normal comment. Use the print() function to print, don’t just type the expression. "
   ]
  },
  {
   "cell_type": "code",
   "execution_count": null,
   "metadata": {},
   "outputs": [],
   "source": []
  },
  {
   "cell_type": "markdown",
   "metadata": {},
   "source": [
    "### B) (3 points). For this program you will need the numerical module of Python. Do the appropriate import.\n"
   ]
  },
  {
   "cell_type": "code",
   "execution_count": null,
   "metadata": {},
   "outputs": [],
   "source": []
  },
  {
   "cell_type": "code",
   "execution_count": null,
   "metadata": {},
   "outputs": [],
   "source": []
  },
  {
   "cell_type": "markdown",
   "metadata": {},
   "source": [
    "## -----------------------------\n",
    "## Problem 2 (20 points total).  Let’s start our program! "
   ]
  },
  {
   "cell_type": "markdown",
   "metadata": {},
   "source": [
    "### A) (4 points) We need to inform the user of our navigation system that we need from them a start and ending point for their trip. Print an informative sentence that lets the user know that we need them to input two cities (start_city, target_city). Their available options should be: Atlanta, Baltimore, Boston, Charlotte, Dallas, Denver, Jacksonville, Minneapolis, Orlando, Sacramento, Tampa and Washington (let the user know this!). \n",
    "\n",
    "<img src=\"map_part.png\" width=500 height=350 />\n",
    "Caption: Google maps screenshot of a part of the cities that your traveler can go from/to. Not included for clarity are Sacramento and Minneapolis."
   ]
  },
  {
   "cell_type": "code",
   "execution_count": null,
   "metadata": {},
   "outputs": [],
   "source": []
  },
  {
   "cell_type": "code",
   "execution_count": null,
   "metadata": {},
   "outputs": [],
   "source": []
  },
  {
   "cell_type": "markdown",
   "metadata": {},
   "source": [
    "### B) (4 points) Ask the input start_city and target_city for your trip"
   ]
  },
  {
   "cell_type": "code",
   "execution_count": null,
   "metadata": {},
   "outputs": [],
   "source": []
  },
  {
   "cell_type": "code",
   "execution_count": null,
   "metadata": {},
   "outputs": [],
   "source": []
  },
  {
   "cell_type": "markdown",
   "metadata": {},
   "source": [
    "### C) (4 points) Make a list cities_list with all the names of the possible cities the traveler can go from/to."
   ]
  },
  {
   "cell_type": "code",
   "execution_count": null,
   "metadata": {},
   "outputs": [],
   "source": []
  },
  {
   "cell_type": "code",
   "execution_count": null,
   "metadata": {},
   "outputs": [],
   "source": []
  },
  {
   "cell_type": "markdown",
   "metadata": {},
   "source": [
    "### D) (4 points) Check if the input start and target cities are among the cities the traveler is allowed to travel to/from. If not, print an error statement that asks them to input another, appropriate city."
   ]
  },
  {
   "cell_type": "code",
   "execution_count": null,
   "metadata": {},
   "outputs": [],
   "source": []
  },
  {
   "cell_type": "code",
   "execution_count": null,
   "metadata": {},
   "outputs": [],
   "source": []
  },
  {
   "cell_type": "markdown",
   "metadata": {},
   "source": [
    "### E)\t(4 points) Test that your code so far works. Run it with a start city: Paris and end city: Orlando. When the code complains for your start city, give new start city: Atlanta. Make a screenshot of your test and save it with the appropriate name to your Midterm folder. "
   ]
  },
  {
   "cell_type": "code",
   "execution_count": null,
   "metadata": {},
   "outputs": [],
   "source": []
  },
  {
   "cell_type": "code",
   "execution_count": null,
   "metadata": {},
   "outputs": [],
   "source": []
  },
  {
   "cell_type": "markdown",
   "metadata": {},
   "source": [
    "## -----------------------------\n",
    "## Problem 3 (20 points total)."
   ]
  },
  {
   "cell_type": "markdown",
   "metadata": {},
   "source": [
    "### A) (3 points) From *Webcourses/Files/Midterm project*  get file “distances_midterm.dat”. This file contains the total distance on the route between city A and B. If you open the file, you will see that it contains a 12 x 12 table (as we have 12 cities we can travel between) with the distances between cities. The $i^{th}$ line and $i^{th}$ column are a given city, so that the diagonal is 0s (as the distance from A to A is zero). The distance between Atlanta and Baltimore, e.g., is 678 miles so that line 0 (#5 of the file) column 1 of your data (i.e., the distance from Atlanta to Baltimore) is 678 (note that the same is true for line 1 [-Baltimore], column 0[-Atlanta] as this is the distance from Baltimore to Atlanta). Use the appropriate numpy function to read the data into variable *travel_data*."
   ]
  },
  {
   "cell_type": "code",
   "execution_count": null,
   "metadata": {},
   "outputs": [],
   "source": []
  },
  {
   "cell_type": "code",
   "execution_count": null,
   "metadata": {},
   "outputs": [],
   "source": []
  },
  {
   "cell_type": "markdown",
   "metadata": {},
   "source": [
    "### B) (4 points) Find which cities the traveler wants to travel from/ to. Use your preferred method to get the index of the cities (assign to variables *first_city* and *second_city*) from your list. "
   ]
  },
  {
   "cell_type": "code",
   "execution_count": null,
   "metadata": {},
   "outputs": [],
   "source": []
  },
  {
   "cell_type": "code",
   "execution_count": null,
   "metadata": {},
   "outputs": [],
   "source": []
  },
  {
   "cell_type": "markdown",
   "metadata": {},
   "source": [
    "### C) (4 points) Using the *travel_data* and indexes *first_city* and *second_city*, find the distance the traveler will travel. Print an informative statement to let the driver know what the distance between their start and end city are."
   ]
  },
  {
   "cell_type": "code",
   "execution_count": null,
   "metadata": {},
   "outputs": [],
   "source": []
  },
  {
   "cell_type": "code",
   "execution_count": null,
   "metadata": {},
   "outputs": [],
   "source": []
  },
  {
   "cell_type": "markdown",
   "metadata": {},
   "source": [
    "### D) (5 points) Assume that the traveler can travel at an average speed of 75mph. Calculate the average travel time it will take them to go from their start_city to their target_city. Calculate how many days ( *travel_time_days* ), hours ( *travel_time_hours* ) and minutes ( *travel_time_minutes* ) the trip will take. Print an informative statement that lets the traveler know how long their trip will be in days, hours and minutes."
   ]
  },
  {
   "cell_type": "code",
   "execution_count": null,
   "metadata": {},
   "outputs": [],
   "source": []
  },
  {
   "cell_type": "code",
   "execution_count": null,
   "metadata": {},
   "outputs": [],
   "source": []
  },
  {
   "cell_type": "markdown",
   "metadata": {},
   "source": [
    "### E) (2 points) Test that your program so far works. Run it from the start_city: Tampa to target_city : Orlando. Your trip should take 1hr and some minutes (note that our assumed average speed is higher than the legal speed limit, so you will get there faster than what, e.g., Google maps suggests). "
   ]
  },
  {
   "cell_type": "code",
   "execution_count": null,
   "metadata": {},
   "outputs": [],
   "source": []
  },
  {
   "cell_type": "code",
   "execution_count": null,
   "metadata": {},
   "outputs": [],
   "source": []
  },
  {
   "cell_type": "markdown",
   "metadata": {},
   "source": [
    "### F) (2 points) Turn the program into a function that takes as input a list of the two cities (start, target) and outputs the necessary information (distance, time..). Make sure you include an appropriate informative docstring!"
   ]
  },
  {
   "cell_type": "code",
   "execution_count": null,
   "metadata": {},
   "outputs": [],
   "source": []
  },
  {
   "cell_type": "code",
   "execution_count": null,
   "metadata": {},
   "outputs": [],
   "source": []
  },
  {
   "cell_type": "code",
   "execution_count": null,
   "metadata": {},
   "outputs": [],
   "source": []
  },
  {
   "cell_type": "code",
   "execution_count": null,
   "metadata": {},
   "outputs": [],
   "source": []
  },
  {
   "cell_type": "markdown",
   "metadata": {},
   "source": [
    "## -----------------------------\n",
    "## Problem 4 (15 points total).\n",
    "\n",
    "### We will now change the existing program to add an extra city as a pitstop.  Let’s make a cross-country road trip from Boston to Sacramento via Denver. Modify your Problem 3 code and function as follows: "
   ]
  },
  {
   "cell_type": "markdown",
   "metadata": {},
   "source": [
    "\n",
    "\n",
    "### A) (2 points)  We will now ask the input *start_city*, a *pitstop_city* and a *target_city* for the trip. "
   ]
  },
  {
   "cell_type": "code",
   "execution_count": null,
   "metadata": {},
   "outputs": [],
   "source": []
  },
  {
   "cell_type": "code",
   "execution_count": null,
   "metadata": {},
   "outputs": [],
   "source": []
  },
  {
   "cell_type": "markdown",
   "metadata": {},
   "source": [
    "### B) (2 points) Update your function to find which cities the traveler wants to travel from, pitstop at, and go to in your list of cities. Use your preferred method to get the index of the cities (first_city, second_city and third_city) from your list. "
   ]
  },
  {
   "cell_type": "code",
   "execution_count": null,
   "metadata": {},
   "outputs": [],
   "source": []
  },
  {
   "cell_type": "code",
   "execution_count": null,
   "metadata": {},
   "outputs": [],
   "source": []
  },
  {
   "cell_type": "markdown",
   "metadata": {},
   "source": [
    "### C) (4 points) Use the above indices and your travel_data to find the distance between first_city - second_city and second_city-third_city. Assuming that your traveler’s car can do 24.9 mpg on the highway and their tank holds 16gallons, calculate how many refueling stops they will need to do on the first and the second leg of their trip Assume that you start the trip with a full tank and round the numbers (e.g., needing 3.2 stops doesn’t make sense). Print an informative statement that lets the traveler know how many stops they will need to do on the two legs of their trip."
   ]
  },
  {
   "cell_type": "code",
   "execution_count": null,
   "metadata": {},
   "outputs": [],
   "source": []
  },
  {
   "cell_type": "code",
   "execution_count": null,
   "metadata": {},
   "outputs": [],
   "source": []
  },
  {
   "cell_type": "markdown",
   "metadata": {},
   "source": [
    "### D) (4 points) Assume an average price of $2.4 per gallon and calculate how much the trip will cost in fuel. Print an informative statement that lets the traveler know the total (gas-only) value of their trip. "
   ]
  },
  {
   "cell_type": "code",
   "execution_count": null,
   "metadata": {},
   "outputs": [],
   "source": []
  },
  {
   "cell_type": "code",
   "execution_count": null,
   "metadata": {},
   "outputs": [],
   "source": []
  },
  {
   "cell_type": "markdown",
   "metadata": {},
   "source": [
    "### E) (3 points) Did it all work? Run the code for start_city: Boston, pitstop_city: Denver and target_city: Sacramento. "
   ]
  },
  {
   "cell_type": "code",
   "execution_count": null,
   "metadata": {},
   "outputs": [],
   "source": []
  },
  {
   "cell_type": "code",
   "execution_count": null,
   "metadata": {},
   "outputs": [],
   "source": []
  },
  {
   "cell_type": "code",
   "execution_count": null,
   "metadata": {},
   "outputs": [],
   "source": []
  },
  {
   "cell_type": "markdown",
   "metadata": {},
   "source": [
    "## -----------------------------\n",
    "## Problem 5 (20 points total) \n",
    "\n",
    "### Let’s try to do a basic navigation code using all our previous parts."
   ]
  },
  {
   "cell_type": "markdown",
   "metadata": {},
   "source": [
    "### A) (3 points) Adapt the code by again asking the traveler to only give you a start city and destination city. You will need to then adapt the function from Problem 4 as follows:"
   ]
  },
  {
   "cell_type": "code",
   "execution_count": null,
   "metadata": {},
   "outputs": [],
   "source": []
  },
  {
   "cell_type": "code",
   "execution_count": null,
   "metadata": {},
   "outputs": [],
   "source": []
  },
  {
   "cell_type": "markdown",
   "metadata": {},
   "source": [
    "### B) (15 points total) The basis of a navigation program is to get your from A to B in the shortest distance/time possible. Let’s try to do this! "
   ]
  },
  {
   "cell_type": "markdown",
   "metadata": {},
   "source": [
    "### 1. (3 points) Get the indexes of the cities you start from (start_city) and want to end at (second_city). "
   ]
  },
  {
   "cell_type": "code",
   "execution_count": null,
   "metadata": {},
   "outputs": [],
   "source": []
  },
  {
   "cell_type": "code",
   "execution_count": null,
   "metadata": {},
   "outputs": [],
   "source": []
  },
  {
   "cell_type": "markdown",
   "metadata": {},
   "source": [
    "### 2. (10 points) You now need to scan the travel_data table to find the right pitstop city that takes you from A to B in the minimum total distance. Make sure that the straight A to B option is not taken into account, as we need to do a pitstop in some city C. Scan all possible combinations A-->C,C-->B and keep the index (min_tot_dist_ind) of pitstop city C that minimizes the total distance (A-->C) + (C-->B). Print an informative statement that lets the traveler know that they will need to stop in city C, and what the total distance traveled will be. "
   ]
  },
  {
   "cell_type": "code",
   "execution_count": null,
   "metadata": {},
   "outputs": [],
   "source": []
  },
  {
   "cell_type": "code",
   "execution_count": null,
   "metadata": {},
   "outputs": [],
   "source": []
  },
  {
   "cell_type": "markdown",
   "metadata": {},
   "source": [
    "### 3. (2 points) Run this program for a trip from Baltimore to Orlando. What is your pitstop city?"
   ]
  },
  {
   "cell_type": "code",
   "execution_count": null,
   "metadata": {},
   "outputs": [],
   "source": []
  },
  {
   "cell_type": "code",
   "execution_count": null,
   "metadata": {},
   "outputs": [],
   "source": []
  },
  {
   "cell_type": "markdown",
   "metadata": {},
   "source": [
    "### 4. (2 points) Change your function to let the traveler know where they will need to stop, how many stops for gas they will need to do in every leg of the trip and how much the total gas cost of the trip will be. Run it for a trip from Baltimore to Orlando."
   ]
  },
  {
   "cell_type": "code",
   "execution_count": null,
   "metadata": {},
   "outputs": [],
   "source": []
  },
  {
   "cell_type": "code",
   "execution_count": null,
   "metadata": {},
   "outputs": [],
   "source": []
  },
  {
   "cell_type": "code",
   "execution_count": null,
   "metadata": {},
   "outputs": [],
   "source": []
  },
  {
   "cell_type": "markdown",
   "metadata": {},
   "source": [
    "## -----------------------------\n",
    "## Problem 6 (10 points) \n",
    "\n",
    "### Prepare and submit your homework. Write what you did to make and submit the zip file into your log. Don’t forget to commit your finalized code and push it to GitHub. When satisfied, close the log, copy it to your homework directory one last time, and run the commands to make and submit the zip file. Turn the file in on WebCourses. "
   ]
  },
  {
   "cell_type": "code",
   "execution_count": null,
   "metadata": {},
   "outputs": [],
   "source": []
  }
 ],
 "metadata": {
  "kernelspec": {
   "display_name": "Python 3",
   "language": "python",
   "name": "python3"
  },
  "language_info": {
   "codemirror_mode": {
    "name": "ipython",
    "version": 3
   },
   "file_extension": ".py",
   "mimetype": "text/x-python",
   "name": "python",
   "nbconvert_exporter": "python",
   "pygments_lexer": "ipython3",
   "version": "3.7.6"
  }
 },
 "nbformat": 4,
 "nbformat_minor": 5
}
